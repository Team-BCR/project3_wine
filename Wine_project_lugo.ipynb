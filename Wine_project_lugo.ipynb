{
 "cells": [
  {
   "cell_type": "markdown",
   "id": "11944d06-d04f-42e2-b772-77ee7d508337",
   "metadata": {},
   "source": [
    "# Wine Project"
   ]
  },
  {
   "cell_type": "code",
   "execution_count": null,
   "id": "a345f625-b9c0-47db-9738-9a668f2cced7",
   "metadata": {},
   "outputs": [],
   "source": [
    "import warnings\n",
    "warnings.filterwarnings(\"ignore\")\n",
    "\n",
    "import pandas as pd\n",
    "import numpy as np\n",
    "\n",
    "import matplotlib.pyplot as plt\n",
    "import seaborn as sns\n",
    "\n",
    "from sklearn.cluster import KMeans\n",
    "from sklearn.preprocessing import MinMaxScaler\n",
    "\n",
    "from pydataset import data\n",
    "\n",
    "# module for visualizations\n",
    "import viz_kmeans as vk\n",
    "\n",
    "# my imports\n",
    "import wrangle_lugo as w"
   ]
  },
  {
   "cell_type": "code",
   "execution_count": null,
   "id": "b6fd1c46-010f-4a33-9251-3e616e57d07d",
   "metadata": {},
   "outputs": [],
   "source": []
  },
  {
   "cell_type": "code",
   "execution_count": null,
   "id": "8b8b560d-cf84-4607-ba8d-aba98e885a8d",
   "metadata": {},
   "outputs": [],
   "source": []
  },
  {
   "cell_type": "code",
   "execution_count": null,
   "id": "3f2d3fdb-964e-4d1d-9567-afed9d6c9ca2",
   "metadata": {},
   "outputs": [],
   "source": []
  },
  {
   "cell_type": "code",
   "execution_count": null,
   "id": "b9b3a594-0420-4686-8d02-8f75c0114112",
   "metadata": {},
   "outputs": [],
   "source": []
  },
  {
   "cell_type": "code",
   "execution_count": null,
   "id": "54e9c745-aee9-428a-a594-1ff369f17910",
   "metadata": {},
   "outputs": [],
   "source": []
  },
  {
   "cell_type": "code",
   "execution_count": null,
   "id": "ae7e37c6-e25d-439b-b1ec-99f976f45e96",
   "metadata": {},
   "outputs": [],
   "source": []
  },
  {
   "cell_type": "code",
   "execution_count": null,
   "id": "db16c36a-0b02-43e0-90bc-fc99c933b07c",
   "metadata": {},
   "outputs": [],
   "source": []
  }
 ],
 "metadata": {
  "kernelspec": {
   "display_name": "Python 3 (ipykernel)",
   "language": "python",
   "name": "python3"
  },
  "language_info": {
   "codemirror_mode": {
    "name": "ipython",
    "version": 3
   },
   "file_extension": ".py",
   "mimetype": "text/x-python",
   "name": "python",
   "nbconvert_exporter": "python",
   "pygments_lexer": "ipython3",
   "version": "3.9.13"
  }
 },
 "nbformat": 4,
 "nbformat_minor": 5
}
