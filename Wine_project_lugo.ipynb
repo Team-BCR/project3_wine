{
 "cells": [
  {
   "cell_type": "markdown",
   "id": "11944d06-d04f-42e2-b772-77ee7d508337",
   "metadata": {},
   "source": [
    "# Wine Project"
   ]
  },
  {
   "cell_type": "code",
   "execution_count": 1,
   "id": "a345f625-b9c0-47db-9738-9a668f2cced7",
   "metadata": {},
   "outputs": [],
   "source": [
    "import warnings\n",
    "warnings.filterwarnings(\"ignore\")\n",
    "\n",
    "import pandas as pd\n",
    "import numpy as np\n",
    "\n",
    "import matplotlib.pyplot as plt\n",
    "import seaborn as sns\n",
    "\n",
    "from sklearn.cluster import KMeans\n",
    "from sklearn.preprocessing import MinMaxScaler\n",
    "\n",
    "from pydataset import data\n",
    "\n",
    "# # module for visualizations\n",
    "# import viz_kmeans as vk\n",
    "\n",
    "# my imports\n",
    "import wrangle_lugo as w"
   ]
  },
  {
   "cell_type": "code",
   "execution_count": 2,
   "id": "b6fd1c46-010f-4a33-9251-3e616e57d07d",
   "metadata": {},
   "outputs": [],
   "source": [
    "df = w.get_wine_data()"
   ]
  },
  {
   "cell_type": "code",
   "execution_count": 3,
   "id": "b9b3a594-0420-4686-8d02-8f75c0114112",
   "metadata": {},
   "outputs": [
    {
     "data": {
      "text/plain": [
       "(6497, 13)"
      ]
     },
     "execution_count": 3,
     "metadata": {},
     "output_type": "execute_result"
    }
   ],
   "source": [
    "df.shape"
   ]
  },
  {
   "cell_type": "markdown",
   "id": "3841d91a-3009-4c42-ba42-72a3285d8a9e",
   "metadata": {},
   "source": [
    "# NOTES\n",
    "\n",
    "    - wine quality red:\n",
    "        1,599 rows\n",
    "        12 columns\n",
    "    - wine quality white:\n",
    "        4,898 rows\n",
    "        12 columns\n",
    "    - merged quality:\n",
    "        6497 rows\n",
    "        12 columns\n",
    "        All columns are in float dtype with the exception of the quality\n",
    "        \n",
    "    - Total of rows originally: 6,497\n",
    "    - Total of rows removed: 1,947\n",
    "    - New total of rows:4,550\n",
    "   "
   ]
  },
  {
   "cell_type": "markdown",
   "id": "fc1d71af-fa23-4f3b-98b1-d19cc4938b5b",
   "metadata": {},
   "source": [
    "# OUTLIERS\n",
    "\n",
    "Total of rows originally: 6,497\n",
    "\n",
    "Total of rows removed: 1,947\n",
    "\n",
    "New total of rows:4,550\n",
    "\n",
    "    fixed_acidity: lower= 4.45, upper= 9.65, new rows= 6140\n",
    "    \n",
    "    volatile_acidity: lower= -0.035, upper= 0.645, new rows= 5758\n",
    "    \n",
    "    citric_acid: lower= 0.08000000000000002, upper= 0.56, new rows= 5263\n",
    "    \n",
    "    residual_sugar: lower= -8.512500000000001, upper= 18.987500000000004, new rows= 5226\n",
    "    \n",
    "    chlorides: lower= 0.008999999999999994, upper= 0.081, new rows= 4815\n",
    "    \n",
    "    free_sulfur_dioxide: lower= -11.0, upper= 77.0, new rows= 4756\n",
    "    \n",
    "    total_sulfur_dioxide: lower= 6.0, upper= 254.0, new rows= 4750\n",
    "    \n",
    "    density: lower= 0.98531, upper= 1.00251, new rows= 4750\n",
    "    \n",
    "    ph: lower= 2.8000000000000007, upper= 3.5999999999999996, new rows= 4690\n",
    "    \n",
    "    sulphates: lower= 0.19500000000000003, upper= 0.7949999999999999, new rows= 4550\n",
    "    \n",
    "    alcohol: lower= 6.6499999999999995, upper= 14.25, new rows= 4550\n",
    "    \n",
    "    quality: target\n",
    "    wine_type: extra columns(two inputs)"
   ]
  },
  {
   "cell_type": "code",
   "execution_count": 4,
   "id": "d8d55918-3300-4796-b5c3-524ff5fb35d8",
   "metadata": {},
   "outputs": [],
   "source": [
    "df = w.prep_wine_data(df)"
   ]
  },
  {
   "cell_type": "code",
   "execution_count": 5,
   "id": "4f0a3af1-f2ea-4216-9f4f-c3fdd048419b",
   "metadata": {},
   "outputs": [
    {
     "data": {
      "text/html": [
       "<div>\n",
       "<style scoped>\n",
       "    .dataframe tbody tr th:only-of-type {\n",
       "        vertical-align: middle;\n",
       "    }\n",
       "\n",
       "    .dataframe tbody tr th {\n",
       "        vertical-align: top;\n",
       "    }\n",
       "\n",
       "    .dataframe thead th {\n",
       "        text-align: right;\n",
       "    }\n",
       "</style>\n",
       "<table border=\"1\" class=\"dataframe\">\n",
       "  <thead>\n",
       "    <tr style=\"text-align: right;\">\n",
       "      <th></th>\n",
       "      <th>fixed_acidity</th>\n",
       "      <th>volatile_acidity</th>\n",
       "      <th>citric_acid</th>\n",
       "      <th>residual_sugar</th>\n",
       "      <th>chlorides</th>\n",
       "      <th>free_sulfur_dioxide</th>\n",
       "      <th>total_sulfur_dioxide</th>\n",
       "      <th>density</th>\n",
       "      <th>ph</th>\n",
       "      <th>sulphates</th>\n",
       "      <th>alcohol</th>\n",
       "      <th>quality</th>\n",
       "      <th>wine_type</th>\n",
       "      <th>wine_type_white_wine</th>\n",
       "    </tr>\n",
       "  </thead>\n",
       "  <tbody>\n",
       "    <tr>\n",
       "      <th>4545</th>\n",
       "      <td>6.2</td>\n",
       "      <td>0.21</td>\n",
       "      <td>0.29</td>\n",
       "      <td>1.6</td>\n",
       "      <td>0.039</td>\n",
       "      <td>24.0</td>\n",
       "      <td>92.0</td>\n",
       "      <td>0.99114</td>\n",
       "      <td>3.27</td>\n",
       "      <td>0.50</td>\n",
       "      <td>11.2</td>\n",
       "      <td>6</td>\n",
       "      <td>white_wine</td>\n",
       "      <td>1</td>\n",
       "    </tr>\n",
       "    <tr>\n",
       "      <th>4546</th>\n",
       "      <td>6.6</td>\n",
       "      <td>0.32</td>\n",
       "      <td>0.36</td>\n",
       "      <td>8.0</td>\n",
       "      <td>0.047</td>\n",
       "      <td>57.0</td>\n",
       "      <td>168.0</td>\n",
       "      <td>0.99490</td>\n",
       "      <td>3.15</td>\n",
       "      <td>0.46</td>\n",
       "      <td>9.6</td>\n",
       "      <td>5</td>\n",
       "      <td>white_wine</td>\n",
       "      <td>1</td>\n",
       "    </tr>\n",
       "    <tr>\n",
       "      <th>4547</th>\n",
       "      <td>6.5</td>\n",
       "      <td>0.24</td>\n",
       "      <td>0.19</td>\n",
       "      <td>1.2</td>\n",
       "      <td>0.041</td>\n",
       "      <td>30.0</td>\n",
       "      <td>111.0</td>\n",
       "      <td>0.99254</td>\n",
       "      <td>2.99</td>\n",
       "      <td>0.46</td>\n",
       "      <td>9.4</td>\n",
       "      <td>6</td>\n",
       "      <td>white_wine</td>\n",
       "      <td>1</td>\n",
       "    </tr>\n",
       "    <tr>\n",
       "      <th>4548</th>\n",
       "      <td>5.5</td>\n",
       "      <td>0.29</td>\n",
       "      <td>0.30</td>\n",
       "      <td>1.1</td>\n",
       "      <td>0.022</td>\n",
       "      <td>20.0</td>\n",
       "      <td>110.0</td>\n",
       "      <td>0.98869</td>\n",
       "      <td>3.34</td>\n",
       "      <td>0.38</td>\n",
       "      <td>12.8</td>\n",
       "      <td>7</td>\n",
       "      <td>white_wine</td>\n",
       "      <td>1</td>\n",
       "    </tr>\n",
       "    <tr>\n",
       "      <th>4549</th>\n",
       "      <td>6.0</td>\n",
       "      <td>0.21</td>\n",
       "      <td>0.38</td>\n",
       "      <td>0.8</td>\n",
       "      <td>0.020</td>\n",
       "      <td>22.0</td>\n",
       "      <td>98.0</td>\n",
       "      <td>0.98941</td>\n",
       "      <td>3.26</td>\n",
       "      <td>0.32</td>\n",
       "      <td>11.8</td>\n",
       "      <td>6</td>\n",
       "      <td>white_wine</td>\n",
       "      <td>1</td>\n",
       "    </tr>\n",
       "  </tbody>\n",
       "</table>\n",
       "</div>"
      ],
      "text/plain": [
       "      fixed_acidity  volatile_acidity  citric_acid  residual_sugar  chlorides  \\\n",
       "4545            6.2              0.21         0.29             1.6      0.039   \n",
       "4546            6.6              0.32         0.36             8.0      0.047   \n",
       "4547            6.5              0.24         0.19             1.2      0.041   \n",
       "4548            5.5              0.29         0.30             1.1      0.022   \n",
       "4549            6.0              0.21         0.38             0.8      0.020   \n",
       "\n",
       "      free_sulfur_dioxide  total_sulfur_dioxide  density    ph  sulphates  \\\n",
       "4545                 24.0                  92.0  0.99114  3.27       0.50   \n",
       "4546                 57.0                 168.0  0.99490  3.15       0.46   \n",
       "4547                 30.0                 111.0  0.99254  2.99       0.46   \n",
       "4548                 20.0                 110.0  0.98869  3.34       0.38   \n",
       "4549                 22.0                  98.0  0.98941  3.26       0.32   \n",
       "\n",
       "      alcohol  quality   wine_type  wine_type_white_wine  \n",
       "4545     11.2        6  white_wine                     1  \n",
       "4546      9.6        5  white_wine                     1  \n",
       "4547      9.4        6  white_wine                     1  \n",
       "4548     12.8        7  white_wine                     1  \n",
       "4549     11.8        6  white_wine                     1  "
      ]
     },
     "execution_count": 5,
     "metadata": {},
     "output_type": "execute_result"
    }
   ],
   "source": [
    "df.tail()"
   ]
  },
  {
   "cell_type": "code",
   "execution_count": 6,
   "id": "8b8b560d-cf84-4607-ba8d-aba98e885a8d",
   "metadata": {},
   "outputs": [
    {
     "name": "stdout",
     "output_type": "stream",
     "text": [
      "<class 'pandas.core.frame.DataFrame'>\n",
      "RangeIndex: 4550 entries, 0 to 4549\n",
      "Data columns (total 14 columns):\n",
      " #   Column                Non-Null Count  Dtype  \n",
      "---  ------                --------------  -----  \n",
      " 0   fixed_acidity         4550 non-null   float64\n",
      " 1   volatile_acidity      4550 non-null   float64\n",
      " 2   citric_acid           4550 non-null   float64\n",
      " 3   residual_sugar        4550 non-null   float64\n",
      " 4   chlorides             4550 non-null   float64\n",
      " 5   free_sulfur_dioxide   4550 non-null   float64\n",
      " 6   total_sulfur_dioxide  4550 non-null   float64\n",
      " 7   density               4550 non-null   float64\n",
      " 8   ph                    4550 non-null   float64\n",
      " 9   sulphates             4550 non-null   float64\n",
      " 10  alcohol               4550 non-null   float64\n",
      " 11  quality               4550 non-null   int64  \n",
      " 12  wine_type             4550 non-null   object \n",
      " 13  wine_type_white_wine  4550 non-null   uint8  \n",
      "dtypes: float64(11), int64(1), object(1), uint8(1)\n",
      "memory usage: 466.7+ KB\n"
     ]
    }
   ],
   "source": [
    "df.info()"
   ]
  },
  {
   "cell_type": "code",
   "execution_count": 7,
   "id": "8de47cb0-d4f5-4a9d-a42f-1f0492fcec1e",
   "metadata": {},
   "outputs": [
    {
     "data": {
      "text/plain": [
       "white_wine    4215\n",
       "red_wine       335\n",
       "Name: wine_type, dtype: int64"
      ]
     },
     "execution_count": 7,
     "metadata": {},
     "output_type": "execute_result"
    }
   ],
   "source": [
    "df.wine_type.value_counts()"
   ]
  },
  {
   "cell_type": "code",
   "execution_count": 8,
   "id": "3f2d3fdb-964e-4d1d-9567-afed9d6c9ca2",
   "metadata": {},
   "outputs": [
    {
     "data": {
      "text/plain": [
       "fixed_acidity           0\n",
       "volatile_acidity        0\n",
       "citric_acid             0\n",
       "residual_sugar          0\n",
       "chlorides               0\n",
       "free_sulfur_dioxide     0\n",
       "total_sulfur_dioxide    0\n",
       "density                 0\n",
       "ph                      0\n",
       "sulphates               0\n",
       "alcohol                 0\n",
       "quality                 0\n",
       "wine_type               0\n",
       "wine_type_white_wine    0\n",
       "dtype: int64"
      ]
     },
     "execution_count": 8,
     "metadata": {},
     "output_type": "execute_result"
    }
   ],
   "source": [
    "# Provides an aggregated sum of nulls by column\n",
    "    #the default axis = 0 : r0w\n",
    "    #so it's summing all r0ws\n",
    "df.isnull().sum()"
   ]
  },
  {
   "cell_type": "code",
   "execution_count": 9,
   "id": "54e9c745-aee9-428a-a594-1ff369f17910",
   "metadata": {},
   "outputs": [
    {
     "data": {
      "text/html": [
       "<div>\n",
       "<style scoped>\n",
       "    .dataframe tbody tr th:only-of-type {\n",
       "        vertical-align: middle;\n",
       "    }\n",
       "\n",
       "    .dataframe tbody tr th {\n",
       "        vertical-align: top;\n",
       "    }\n",
       "\n",
       "    .dataframe thead th {\n",
       "        text-align: right;\n",
       "    }\n",
       "</style>\n",
       "<table border=\"1\" class=\"dataframe\">\n",
       "  <thead>\n",
       "    <tr style=\"text-align: right;\">\n",
       "      <th></th>\n",
       "      <th>num_rows_missing</th>\n",
       "      <th>percent_rows_missing</th>\n",
       "    </tr>\n",
       "  </thead>\n",
       "  <tbody>\n",
       "    <tr>\n",
       "      <th>fixed_acidity</th>\n",
       "      <td>0</td>\n",
       "      <td>0.0</td>\n",
       "    </tr>\n",
       "    <tr>\n",
       "      <th>volatile_acidity</th>\n",
       "      <td>0</td>\n",
       "      <td>0.0</td>\n",
       "    </tr>\n",
       "    <tr>\n",
       "      <th>citric_acid</th>\n",
       "      <td>0</td>\n",
       "      <td>0.0</td>\n",
       "    </tr>\n",
       "    <tr>\n",
       "      <th>residual_sugar</th>\n",
       "      <td>0</td>\n",
       "      <td>0.0</td>\n",
       "    </tr>\n",
       "    <tr>\n",
       "      <th>chlorides</th>\n",
       "      <td>0</td>\n",
       "      <td>0.0</td>\n",
       "    </tr>\n",
       "    <tr>\n",
       "      <th>free_sulfur_dioxide</th>\n",
       "      <td>0</td>\n",
       "      <td>0.0</td>\n",
       "    </tr>\n",
       "    <tr>\n",
       "      <th>total_sulfur_dioxide</th>\n",
       "      <td>0</td>\n",
       "      <td>0.0</td>\n",
       "    </tr>\n",
       "    <tr>\n",
       "      <th>density</th>\n",
       "      <td>0</td>\n",
       "      <td>0.0</td>\n",
       "    </tr>\n",
       "    <tr>\n",
       "      <th>ph</th>\n",
       "      <td>0</td>\n",
       "      <td>0.0</td>\n",
       "    </tr>\n",
       "    <tr>\n",
       "      <th>sulphates</th>\n",
       "      <td>0</td>\n",
       "      <td>0.0</td>\n",
       "    </tr>\n",
       "    <tr>\n",
       "      <th>alcohol</th>\n",
       "      <td>0</td>\n",
       "      <td>0.0</td>\n",
       "    </tr>\n",
       "    <tr>\n",
       "      <th>quality</th>\n",
       "      <td>0</td>\n",
       "      <td>0.0</td>\n",
       "    </tr>\n",
       "    <tr>\n",
       "      <th>wine_type</th>\n",
       "      <td>0</td>\n",
       "      <td>0.0</td>\n",
       "    </tr>\n",
       "    <tr>\n",
       "      <th>wine_type_white_wine</th>\n",
       "      <td>0</td>\n",
       "      <td>0.0</td>\n",
       "    </tr>\n",
       "  </tbody>\n",
       "</table>\n",
       "</div>"
      ],
      "text/plain": [
       "                      num_rows_missing  percent_rows_missing\n",
       "fixed_acidity                        0                   0.0\n",
       "volatile_acidity                     0                   0.0\n",
       "citric_acid                          0                   0.0\n",
       "residual_sugar                       0                   0.0\n",
       "chlorides                            0                   0.0\n",
       "free_sulfur_dioxide                  0                   0.0\n",
       "total_sulfur_dioxide                 0                   0.0\n",
       "density                              0                   0.0\n",
       "ph                                   0                   0.0\n",
       "sulphates                            0                   0.0\n",
       "alcohol                              0                   0.0\n",
       "quality                              0                   0.0\n",
       "wine_type                            0                   0.0\n",
       "wine_type_white_wine                 0                   0.0"
      ]
     },
     "execution_count": 9,
     "metadata": {},
     "output_type": "execute_result"
    }
   ],
   "source": [
    "w.nulls_by_col(df)"
   ]
  },
  {
   "cell_type": "code",
   "execution_count": 10,
   "id": "ae7e37c6-e25d-439b-b1ec-99f976f45e96",
   "metadata": {},
   "outputs": [
    {
     "data": {
      "text/plain": [
       "0       0\n",
       "1       0\n",
       "2       0\n",
       "3       0\n",
       "4       0\n",
       "       ..\n",
       "4545    0\n",
       "4546    0\n",
       "4547    0\n",
       "4548    0\n",
       "4549    0\n",
       "Length: 4550, dtype: int64"
      ]
     },
     "execution_count": 10,
     "metadata": {},
     "output_type": "execute_result"
    }
   ],
   "source": [
    "# Let's examine by row now!\n",
    "    #now that we've changed the axis=1: co1\n",
    "    #it's summing the columns\n",
    "\n",
    "df.isnull().sum(axis=1)"
   ]
  },
  {
   "cell_type": "code",
   "execution_count": 11,
   "id": "6b67409e-a57d-43fe-862b-3a255aaef75e",
   "metadata": {},
   "outputs": [],
   "source": [
    "# list of columns\n",
    "cols = ['fixed_acidity','volatile_acidity','citric_acid'\n",
    "        ,'residual_sugar','chlorides','free_sulfur_dioxide'\n",
    "       ,'total_sulfur_dioxide','density','ph','sulphates'\n",
    "        ,'alcohol','quality','wine_type','wine_type_white_wine']"
   ]
  },
  {
   "cell_type": "code",
   "execution_count": 12,
   "id": "c5099a63-402a-4620-abb8-2040da0f6292",
   "metadata": {},
   "outputs": [
    {
     "data": {
      "image/png": "[encoded data removed]",
      "text/plain": [
       "<Figure size 1600x1200 with 13 Axes>"
      ]
     },
     "metadata": {},
     "output_type": "display_data"
    }
   ],
   "source": [
    "plt.figure(figsize=(16,12))\n",
    "\n",
    "#enumerate gives us the index of what we are iterating over\n",
    "# as well as the iteration of the df.columns\n",
    "for i, cols in enumerate(df.columns[1:]):\n",
    "    # print(i, cols)\n",
    "\n",
    "    plt.subplot(4,4,i+1)\n",
    "    sns.histplot(df[cols])\n",
    "\n",
    "plt.suptitle('distribution of all my variables')\n",
    "plt.show()"
   ]
  },
  {
   "cell_type": "code",
   "execution_count": 13,
   "id": "b91833b6-c6f3-46ff-ad64-d03345fb36e2",
   "metadata": {},
   "outputs": [],
   "source": [
    "# dropping these columns for right now until I find a use for them\n",
    "# df = df.drop(columns =['wine_type','wine_type_white_wine'])\n",
    "df = df.drop(columns =['wine_type'])"
   ]
  },
  {
   "cell_type": "code",
   "execution_count": 14,
   "id": "e5b134bd-c950-40ae-b7da-304538ccccde",
   "metadata": {
    "tags": []
   },
   "outputs": [
    {
     "data": {
      "text/plain": [
       "((2730, 13), (910, 13), (910, 13))"
      ]
     },
     "execution_count": 14,
     "metadata": {},
     "output_type": "execute_result"
    }
   ],
   "source": [
    "tr, val, ts = w.get_split(df)\n",
    "tr.shape, val.shape, ts.shape"
   ]
  },
  {
   "cell_type": "code",
   "execution_count": 15,
   "id": "7fecd1d3-9297-4ddd-ba3c-f1d0d01ec59f",
   "metadata": {},
   "outputs": [],
   "source": [
    "target = 'quality'"
   ]
  },
  {
   "cell_type": "code",
   "execution_count": 16,
   "id": "f5a58e31-faf8-4487-b9f7-0e88a4c8ec11",
   "metadata": {},
   "outputs": [
    {
     "data": {
      "text/plain": [
       "5.931135531135531"
      ]
     },
     "execution_count": 16,
     "metadata": {},
     "output_type": "execute_result"
    }
   ],
   "source": [
    "X_tr, X_val, X_ts, y_tr, y_val, y_ts, to_scale, baseline = w.get_Xs_ys_to_scale_baseline(tr, val, ts, target)\n",
    "baseline"
   ]
  },
  {
   "cell_type": "code",
   "execution_count": 19,
   "id": "facfe269-dc6b-485d-88f9-86b486ccb98b",
   "metadata": {},
   "outputs": [
    {
     "data": {
      "text/html": [
       "<div>\n",
       "<style scoped>\n",
       "    .dataframe tbody tr th:only-of-type {\n",
       "        vertical-align: middle;\n",
       "    }\n",
       "\n",
       "    .dataframe tbody tr th {\n",
       "        vertical-align: top;\n",
       "    }\n",
       "\n",
       "    .dataframe thead th {\n",
       "        text-align: right;\n",
       "    }\n",
       "</style>\n",
       "<table border=\"1\" class=\"dataframe\">\n",
       "  <thead>\n",
       "    <tr style=\"text-align: right;\">\n",
       "      <th></th>\n",
       "      <th>fixed_acidity</th>\n",
       "      <th>volatile_acidity</th>\n",
       "      <th>citric_acid</th>\n",
       "      <th>residual_sugar</th>\n",
       "      <th>chlorides</th>\n",
       "      <th>free_sulfur_dioxide</th>\n",
       "      <th>total_sulfur_dioxide</th>\n",
       "      <th>density</th>\n",
       "      <th>ph</th>\n",
       "      <th>sulphates</th>\n",
       "      <th>alcohol</th>\n",
       "      <th>wine_type_white_wine</th>\n",
       "    </tr>\n",
       "  </thead>\n",
       "  <tbody>\n",
       "    <tr>\n",
       "      <th>1377</th>\n",
       "      <td>0.489796</td>\n",
       "      <td>0.642857</td>\n",
       "      <td>0.608696</td>\n",
       "      <td>0.114441</td>\n",
       "      <td>0.450704</td>\n",
       "      <td>0.445946</td>\n",
       "      <td>0.489796</td>\n",
       "      <td>0.169273</td>\n",
       "      <td>0.324675</td>\n",
       "      <td>0.333333</td>\n",
       "      <td>0.879310</td>\n",
       "      <td>1.0</td>\n",
       "    </tr>\n",
       "    <tr>\n",
       "      <th>2596</th>\n",
       "      <td>0.367347</td>\n",
       "      <td>0.267857</td>\n",
       "      <td>0.586957</td>\n",
       "      <td>0.855586</td>\n",
       "      <td>0.408451</td>\n",
       "      <td>0.554054</td>\n",
       "      <td>0.510204</td>\n",
       "      <td>0.824609</td>\n",
       "      <td>0.571429</td>\n",
       "      <td>0.296296</td>\n",
       "      <td>0.068966</td>\n",
       "      <td>1.0</td>\n",
       "    </tr>\n",
       "    <tr>\n",
       "      <th>3016</th>\n",
       "      <td>0.408163</td>\n",
       "      <td>0.446429</td>\n",
       "      <td>0.586957</td>\n",
       "      <td>0.326975</td>\n",
       "      <td>0.464789</td>\n",
       "      <td>0.432432</td>\n",
       "      <td>0.440816</td>\n",
       "      <td>0.280082</td>\n",
       "      <td>0.194805</td>\n",
       "      <td>0.111111</td>\n",
       "      <td>0.655172</td>\n",
       "      <td>1.0</td>\n",
       "    </tr>\n",
       "    <tr>\n",
       "      <th>3852</th>\n",
       "      <td>0.571429</td>\n",
       "      <td>0.232143</td>\n",
       "      <td>0.434783</td>\n",
       "      <td>0.049046</td>\n",
       "      <td>0.521127</td>\n",
       "      <td>0.445946</td>\n",
       "      <td>0.404082</td>\n",
       "      <td>0.280082</td>\n",
       "      <td>0.428571</td>\n",
       "      <td>0.370370</td>\n",
       "      <td>0.500000</td>\n",
       "      <td>1.0</td>\n",
       "    </tr>\n",
       "    <tr>\n",
       "      <th>1507</th>\n",
       "      <td>0.714286</td>\n",
       "      <td>0.250000</td>\n",
       "      <td>0.586957</td>\n",
       "      <td>0.337875</td>\n",
       "      <td>0.352113</td>\n",
       "      <td>0.135135</td>\n",
       "      <td>0.334694</td>\n",
       "      <td>0.495581</td>\n",
       "      <td>0.246753</td>\n",
       "      <td>0.240741</td>\n",
       "      <td>0.362069</td>\n",
       "      <td>1.0</td>\n",
       "    </tr>\n",
       "  </tbody>\n",
       "</table>\n",
       "</div>"
      ],
      "text/plain": [
       "      fixed_acidity  volatile_acidity  citric_acid  residual_sugar  chlorides  \\\n",
       "1377       0.489796          0.642857     0.608696        0.114441   0.450704   \n",
       "2596       0.367347          0.267857     0.586957        0.855586   0.408451   \n",
       "3016       0.408163          0.446429     0.586957        0.326975   0.464789   \n",
       "3852       0.571429          0.232143     0.434783        0.049046   0.521127   \n",
       "1507       0.714286          0.250000     0.586957        0.337875   0.352113   \n",
       "\n",
       "      free_sulfur_dioxide  total_sulfur_dioxide   density        ph  \\\n",
       "1377             0.445946              0.489796  0.169273  0.324675   \n",
       "2596             0.554054              0.510204  0.824609  0.571429   \n",
       "3016             0.432432              0.440816  0.280082  0.194805   \n",
       "3852             0.445946              0.404082  0.280082  0.428571   \n",
       "1507             0.135135              0.334694  0.495581  0.246753   \n",
       "\n",
       "      sulphates   alcohol  wine_type_white_wine  \n",
       "1377   0.333333  0.879310                   1.0  \n",
       "2596   0.296296  0.068966                   1.0  \n",
       "3016   0.111111  0.655172                   1.0  \n",
       "3852   0.370370  0.500000                   1.0  \n",
       "1507   0.240741  0.362069                   1.0  "
      ]
     },
     "execution_count": 19,
     "metadata": {},
     "output_type": "execute_result"
    }
   ],
   "source": [
    "X_tr_sc, X_val_sc, X_ts_sc = w.scale_data(X_tr,X_val,X_ts,to_scale)\n",
    "X_tr_sc.head()"
   ]
  },
  {
   "cell_type": "code",
   "execution_count": null,
   "id": "969a46a8-99a2-4757-8b73-7ba7828927d6",
   "metadata": {},
   "outputs": [],
   "source": []
  },
  {
   "cell_type": "code",
   "execution_count": null,
   "id": "5f03dd5a-2864-4f3a-9592-b31d75706d8a",
   "metadata": {},
   "outputs": [],
   "source": []
  },
  {
   "cell_type": "code",
   "execution_count": null,
   "id": "96e5cba6-4b76-4b1d-a68f-5a1c1e316b5d",
   "metadata": {},
   "outputs": [],
   "source": []
  },
  {
   "cell_type": "code",
   "execution_count": null,
   "id": "638fa34d-2ba9-4078-9921-ca5fecf69d65",
   "metadata": {},
   "outputs": [],
   "source": []
  },
  {
   "cell_type": "code",
   "execution_count": null,
   "id": "9cb119fe-0551-4a5f-8406-b11ddfe5967a",
   "metadata": {},
   "outputs": [],
   "source": []
  },
  {
   "cell_type": "code",
   "execution_count": null,
   "id": "13200027-c5bb-4f42-9218-6b7d466e2595",
   "metadata": {},
   "outputs": [],
   "source": []
  }
 ],
 "metadata": {
  "kernelspec": {
   "display_name": "Python 3 (ipykernel)",
   "language": "python",
   "name": "python3"
  },
  "language_info": {
   "codemirror_mode": {
    "name": "ipython",
    "version": 3
   },
   "file_extension": ".py",
   "mimetype": "text/x-python",
   "name": "python",
   "nbconvert_exporter": "python",
   "pygments_lexer": "ipython3",
   "version": "3.9.13"
  }
 },
 "nbformat": 4,
 "nbformat_minor": 5
}
