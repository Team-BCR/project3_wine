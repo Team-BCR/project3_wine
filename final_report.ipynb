{
 "cells": [
  {
   "cell_type": "markdown",
   "id": "58adc7fc-a001-4cc5-b852-71ec9b6fe01b",
   "metadata": {},
   "source": [
    "# Wine Quality Prediction Project"
   ]
  },
  {
   "cell_type": "markdown",
   "id": "3bde2140-d0ee-4ac2-8326-0a7d51876925",
   "metadata": {},
   "source": [
    "## Goal:\n",
    "- Discover features that affect wine quality\n",
    "- Use features to develop a machine learning model to predict the quality of wine on a scale of 1-10"
   ]
  },
  {
   "cell_type": "markdown",
   "id": "dd199d9a-2435-47fd-bf9e-bf8b4591fb00",
   "metadata": {},
   "source": [
    "# Imports"
   ]
  },
  {
   "cell_type": "code",
   "execution_count": null,
   "id": "9e5addb5-7672-4766-8666-e4a7a440a482",
   "metadata": {},
   "outputs": [],
   "source": [
    "import numpy as np\n",
    "import pandas as pd\n",
    "\n",
    "import matplotlib.pyplot as plt\n",
    "import seaborn as sns\n",
    "\n",
    "import wrangle as w\n",
    "import explore as e\n",
    "# import model as m\n",
    "import evaluate as ev\n",
    "\n",
    "from scipy.stats import pearsonr, spearmanr\n",
    "\n",
    "import warnings\n",
    "warnings.filterwarnings(\"ignore\")\n",
    "\n",
    "np.random.seed(123)"
   ]
  },
  {
   "cell_type": "markdown",
   "id": "aae87c0f-cef8-4380-97ec-0b20930d5395",
   "metadata": {},
   "source": [
    "# Acquire\n",
    "- Data acquired from [data.world](https://data.world/food/wine-quality)\n",
    "- Downloaded two separate .csv files: 1 for red wine, 1 for white wine\n",
    "- Merged the .csv files into a a single dataframe\n",
    "- Added one column, wine_type, after combining csv files to indicate red or white wine\n",
    "- It contained 6,497 rows and 13 columns before cleaning\n",
    "    - 1599 rows were red wines\n",
    "    - 4898 rows were white wines\n",
    "- Each row represents a single vintage of wine\n",
    "- Each column represents a chemical quality of the wines"
   ]
  },
  {
   "cell_type": "markdown",
   "id": "70cbae68-514e-4709-a682-fbb8eddf254c",
   "metadata": {},
   "source": [
    "# Prepare\n",
    "- Did not remove any columns\n",
    "- Did not rename any columns\n",
    "- Checked for nulls - no null values found\n",
    "- Checked that column data types were appropriate\n",
    "- Outliers: used IQR method and 2 for the multiplier value:\n",
    "    - IQR = Q3 - Q1;  For each column: removed (Q1 - 2 * IQR) AND removed (Q3 + 2 * IQR)\n",
    "    - 867 rows removed\n",
    "    - Began with 6,497\n",
    "    - Ended with 5,630\n",
    "- Encoded categorical variables\n",
    "- Split data into train, validate, and test (60/20/20)\n",
    "- Scaled continuous variables"
   ]
  },
  {
   "cell_type": "markdown",
   "id": "d639ef5a-93ff-49ea-bee9-d91f8c2c7ee3",
   "metadata": {},
   "source": [
    "# Data Dictionary\n",
    "\n",
    "| Feature | Definition (measurement)|\n",
    "|:--------|:-----------|\n",
    "|Fixed Acidity| The fixed amount of tartaric acid. (g/L)|\n",
    "|Volatile Acidity| A wine's acetic acid; (High Volatility = High Vinegar-like smell). (g/L)|\n",
    "|Citric Acid| The amount of citric acid; (Raises acidity, Lowers shelf-life). (g/L)|\n",
    "|Residual Sugar| Leftover sugars after fermentation. (g/L)|\n",
    "|Chlorides| Increases sodium levels; (Affects color, clarity, flavor, aroma). (g/L)|\n",
    "|Free Sulfur Dioxide| Related to pH. Determines how much SO2 is available. (Increases shelf-life, decreases palatability). (mg/L)|\n",
    "|Total Sulfur Dioxide| Summation of free and bound SO2. (Limited to 350ppm: 0-150, low-processed, 150+ highly processed). (mg/L)|\n",
    "|Density| Between 1.08 and 1.09. (Insight into fermentation process of yeast growth). (g/L)|\n",
    "|pH| 2.5: more acidic - 4.5: less acidic (range)|\n",
    "|Sulphates| Added to stop fermentation (Preservative) (g/L)|\n",
    "|Alcohol| Related to Residual Sugars. By-product of fermentation process (vol%)|\n",
    "|Quality (Target)| Score assigned between 0 and 10; 0=low, 10=best|\n",
    "|Wine Type| Red or White|"
   ]
  },
  {
   "cell_type": "code",
   "execution_count": null,
   "id": "be32129e-8dad-4f08-9f51-79597f7e9169",
   "metadata": {},
   "outputs": [],
   "source": [
    "# acquire and prepare wine data\n",
    "df = w.wrangle_wine()"
   ]
  },
  {
   "cell_type": "code",
   "execution_count": null,
   "id": "e359e1e4-9c65-4e85-a577-7ea81cf75e59",
   "metadata": {},
   "outputs": [],
   "source": [
    "df.head()"
   ]
  },
  {
   "cell_type": "code",
   "execution_count": null,
   "id": "1740ce13-8458-40e5-8277-3245a3f501ea",
   "metadata": {},
   "outputs": [],
   "source": [
    "# split into train/validate/test datasets (tr/val/ts)\n",
    "tr, val, ts = w.get_split(df)"
   ]
  },
  {
   "cell_type": "markdown",
   "id": "22d48fbc-168e-4fb4-b6f0-3c48309f4cbe",
   "metadata": {},
   "source": [
    "# A brief look at the data"
   ]
  },
  {
   "cell_type": "code",
   "execution_count": null,
   "id": "6fe6a1b7-7ca0-4b60-96ab-33605f206802",
   "metadata": {},
   "outputs": [],
   "source": [
    "tr.head()"
   ]
  },
  {
   "cell_type": "markdown",
   "id": "5423f5c5-8e6a-453f-91c9-4e94665a470c",
   "metadata": {},
   "source": [
    "## A summary of the data"
   ]
  },
  {
   "cell_type": "code",
   "execution_count": null,
   "id": "e70fe2b1-c77a-43ae-86ac-4a2632dc3225",
   "metadata": {},
   "outputs": [],
   "source": [
    "tr.info()"
   ]
  },
  {
   "cell_type": "code",
   "execution_count": null,
   "id": "b24999eb-a486-4a38-8264-597f3056570b",
   "metadata": {},
   "outputs": [],
   "source": [
    "tr.describe()"
   ]
  },
  {
   "cell_type": "markdown",
   "id": "f098fa1c-9ded-4a78-9ab9-ecfa70543e59",
   "metadata": {},
   "source": [
    "# Explore"
   ]
  },
  {
   "cell_type": "markdown",
   "id": "a5c5a01d-31a8-40cb-aa0b-b9f14a750e31",
   "metadata": {},
   "source": [
    "## What is the distribution of the target?)\n",
    "- NOTE: this question is more of a look at the data, not a stats test question"
   ]
  },
  {
   "cell_type": "code",
   "execution_count": null,
   "id": "799e28c7-9419-414c-9b31-d56d313c16b1",
   "metadata": {},
   "outputs": [],
   "source": [
    "# get a histplot of quality\n",
    "sns.histplot(df.quality)\n",
    "plt.show()"
   ]
  },
  {
   "cell_type": "markdown",
   "id": "692e2149-b660-4f08-af79-f55dc288fcf0",
   "metadata": {},
   "source": [
    "## Question 1: Is alcohol associated with quality?"
   ]
  },
  {
   "cell_type": "code",
   "execution_count": null,
   "id": "b4d89248-6fdb-476c-9aec-7056d432effc",
   "metadata": {},
   "outputs": [],
   "source": [
    "# Visualize: get a regplot of alcohol vs quality on train\n",
    "e.get_alcohol_qual_plot(tr, 'alcohol', 'quality')"
   ]
  },
  {
   "cell_type": "markdown",
   "id": "0be0c02b-bc5b-4ea2-8cfd-e4d0bed55081",
   "metadata": {},
   "source": [
    "### Analyze alcohol vs quality with stats\n",
    "- $H_0$: There is NO relationship between alcohol and quality\n",
    "- $H_a$: There IS a relationship\n",
    "- $\\alpha$ = .05\n",
    "    - Utilize spearmanr - we are comparing continuous variables, normally distributed, but UNequal variance"
   ]
  },
  {
   "cell_type": "code",
   "execution_count": null,
   "id": "3ee0e42c-71e8-4a04-aecd-17ac6a42dacc",
   "metadata": {},
   "outputs": [],
   "source": [
    "# get the stats from a pearsonr test on alcohol vs quality\n",
    "spearmanr(tr.alcohol, tr.quality)"
   ]
  },
  {
   "cell_type": "markdown",
   "id": "f4bc445a-23c3-42ab-8b61-b44b84fad81c",
   "metadata": {},
   "source": [
    "### Summarize\n",
    "- p is < $\\alpha$, so we can reject the $H_0$ which suggest the $H_a$, i.e. there IS a relationship between alcohol and quality: as alcohol by volume increases, quality increases in the dataset"
   ]
  },
  {
   "cell_type": "markdown",
   "id": "9ab029ee-2e57-4241-a727-6d8646873f8d",
   "metadata": {},
   "source": [
    "## Question 2: Are chloride levels associated with quality?)"
   ]
  },
  {
   "cell_type": "code",
   "execution_count": null,
   "id": "7ca01a96-cdbf-4fdc-a147-37981a5ffd62",
   "metadata": {},
   "outputs": [],
   "source": [
    "# Visualize: get a regplot of chlorides vs quality\n",
    "e.get_chloride_qual_plot(tr, 'chlorides', 'quality')"
   ]
  },
  {
   "cell_type": "markdown",
   "id": "914c5bf2-e9b5-42b3-8723-bea67545d53f",
   "metadata": {},
   "source": [
    "### Analyze chlorides vs quality with stats\n",
    "- $H_0$: There is NO relationship between chlorides and quality\n",
    "- $H_a$: There IS a relationship\n",
    "- $\\alpha$ = .05\n",
    "    - Utilize spearmanr - we are comparing continuous variables, normally distributed, but UNequal variance"
   ]
  },
  {
   "cell_type": "code",
   "execution_count": null,
   "id": "abeef95f-c078-4b78-9676-f8b5b9c6ba9f",
   "metadata": {},
   "outputs": [],
   "source": [
    "# get the stats from a pearsonr test on chlorides vs quality\n",
    "spearmanr(tr.chlorides, tr.quality)"
   ]
  },
  {
   "cell_type": "markdown",
   "id": "c412b2fb-1c5e-4384-ae8f-26a88747f998",
   "metadata": {},
   "source": [
    "### Summarize\n",
    "- p is < $\\alpha$, so we can reject the $H_0$ which suggest the $H_a$, i.e. there IS a relationship between chlorides and quality: a lower value for chlorides correlates with an increase in quality"
   ]
  },
  {
   "cell_type": "markdown",
   "id": "6b59bf89-7cd7-45c1-8993-e01232adc37f",
   "metadata": {},
   "source": [
    "## Question 3 Is residual_sugar associated with quality?"
   ]
  },
  {
   "cell_type": "code",
   "execution_count": null,
   "id": "be92c1e8-7bf5-4805-8802-3628f17f9c90",
   "metadata": {},
   "outputs": [],
   "source": [
    "# Visualize: get a regplot of residual_sugar vs quality on train\n",
    "e.get_res_sugar_quality_plot(tr, 'residual_sugar', 'quality')"
   ]
  },
  {
   "cell_type": "markdown",
   "id": "dcf41d59-f837-4c10-8393-303b8c7f1cb6",
   "metadata": {},
   "source": [
    "### Analyze residual_sugar vs quality with stats\n",
    "- $H_0$: There is NO relationship between residual_sugar and quality\n",
    "- $H_a$: There IS a relationship\n",
    "- $\\alpha$ = .05\n",
    "    - Utilize spearmanr - we are comparing continuous variables, normally distributed, but UNequal variance"
   ]
  },
  {
   "cell_type": "code",
   "execution_count": null,
   "id": "b885b43a-8cdb-4713-be95-11f6584dca4b",
   "metadata": {},
   "outputs": [],
   "source": [
    "# get the stats from a pearsonr test on chlorides vs quality\n",
    "spearmanr(tr.residual_sugar, tr.quality)"
   ]
  },
  {
   "cell_type": "markdown",
   "id": "575b20c3-5452-4d79-b58a-94e396174c7c",
   "metadata": {},
   "source": [
    "### Summarize\n",
    "- p is > $\\alpha$, so we CANNOT reject the $H_0$ i.e. there is NOT a relationship between residual_sugar and quality"
   ]
  },
  {
   "cell_type": "markdown",
   "id": "5bcb94d7-9b6f-499c-a02c-5007c91cef09",
   "metadata": {},
   "source": [
    "## Question 4 Is alcohol associated with density?\n",
    "- Chemistry knowledge suggest these two features are very closely related, and therefore we should, perhaps, only send one in to our models"
   ]
  },
  {
   "cell_type": "code",
   "execution_count": null,
   "id": "71c328d9-b648-492a-bc80-0ca403429a01",
   "metadata": {},
   "outputs": [],
   "source": [
    "# Visualize: get a regplot of alcohol vs density on train\n",
    "e.get_alcohol_density_plot(tr, 'alcohol', 'density')"
   ]
  },
  {
   "cell_type": "markdown",
   "id": "a669be59-4ecc-4339-a90c-97fc39fb7db2",
   "metadata": {},
   "source": [
    "### Analyze alcohol vs density with stats\n",
    "- $H_0$: There is NO relationship between alcohol and density\n",
    "- $H_a$: There IS a relationship\n",
    "- $\\alpha$ = .05\n",
    "    - Utilize spearmanr - we are comparing continuous variables, normally distributed, but UNequal variance"
   ]
  },
  {
   "cell_type": "code",
   "execution_count": null,
   "id": "0ce59fa9-b6b8-4d10-9956-33c4eb13407a",
   "metadata": {},
   "outputs": [],
   "source": [
    "# get the stats from a pearsonr test on alcohol vs density\n",
    "spearmanr(tr.alcohol, tr.density)"
   ]
  },
  {
   "cell_type": "markdown",
   "id": "29f18be1-aa64-4d65-82b0-a51bf2552cea",
   "metadata": {},
   "source": [
    "### Summarize\n",
    "- p is < $\\alpha$, so we can reject the $H_0$ which suggest the $H_a$, i.e. there IS a relationship between alcohol and density; furthermore, the correlation coefficient is -0.77, i.e. highly correlated (closer to -1 is more correlated)"
   ]
  },
  {
   "cell_type": "markdown",
   "id": "61405f05-c95d-4259-8199-749c1c5687c0",
   "metadata": {},
   "source": [
    "## Exploration Summary\n",
    "* No feature had a strong correlation with quality by itself; alcohol was the strongest with a .46 correlation coefficient\n",
    "* However, most features had some relationship with quality by themselves (stats tests for other features completed in separate working notebook)\n",
    "* density was closely correlated with alcohol\n",
    "* PUT SOMETHING IN HERE ABOUT CLUSTERS\n"
   ]
  },
  {
   "cell_type": "markdown",
   "id": "1edf3028-b066-4bc7-b36f-973e93d1cf00",
   "metadata": {},
   "source": [
    "### Features we are moving to modeling with\n",
    "* fixed_acidity\n",
    "* volatile_acidity\n",
    "* citric_acid\n",
    "* chlorides\n",
    "* free_sulfur_dioxide\n",
    "* total_sulfur_dioxide\n",
    "* ph\n",
    "* sulphates\n",
    "* alcohol\n",
    "* wine_type"
   ]
  },
  {
   "cell_type": "markdown",
   "id": "03106467-78b4-4b91-ad02-ee5e1bd347b9",
   "metadata": {},
   "source": [
    "### Features we are, initially, not moving to modeling with\n",
    "* residual_sugar\n",
    "* density"
   ]
  },
  {
   "cell_type": "markdown",
   "id": "ce5644a9-dd6d-4cca-8967-551b6b7204d6",
   "metadata": {},
   "source": [
    "# Modeling\n",
    "* Evaluation Metrics (example: I will use R^2 and Root Mean Square Error (RMSE) as my evaluation metrics)\n",
    "    * for R^2, the value is in the range 0-1; closer to 1.0 is better; baseline is 0.0\n",
    "    * for RMSE, the lower the value the better; baseline is xxx\n",
    "* The average target is xxx which is the baseline prediction\n",
    "* I will evaluate x different model types and various hyperparameter configurations\n",
    "    * (Example: The four model types are Ordinary Least Squares (OLS), LassoLars, Polynomial Regression, Generalized Linear Model (GLM))\n",
    "* Models will be evaluated on train and validate data\n",
    "* The model that performs the best will then be evaluated on test"
   ]
  },
  {
   "cell_type": "code",
   "execution_count": null,
   "id": "0c1e70d0-b1eb-431b-ae70-73ae4275f7be",
   "metadata": {},
   "outputs": [],
   "source": [
    "## prep data for modeling\n",
    "\n",
    "# get X y splits for modeling\n",
    "target = 'quality'\n",
    "X_tr, X_val, X_ts, y_tr, y_val, y_ts, to_scale, baseline = w.get_Xs_ys_to_scale_baseline(tr, val, ts, target)\n",
    "\n",
    "# scaling continuous variable columns for use in modeling\n",
    "X_tr_sc, X_val_sc, X_ts_sc = w.scale_data(X_tr,X_val,X_ts,to_scale)"
   ]
  },
  {
   "cell_type": "markdown",
   "id": "9909e0bf-cd7f-4f76-b7d1-e9ee1817059b",
   "metadata": {},
   "source": [
    "## Comparing models - All features EXCEPT residual_sugar and density\n",
    "* Also running OLS on top 3 RFE features"
   ]
  },
  {
   "cell_type": "code",
   "execution_count": null,
   "id": "367b19f9-ed62-47f3-b907-6612b8d509aa",
   "metadata": {},
   "outputs": [],
   "source": [
    "# getting machine learning model metrics for features deemed useful in explore\n",
    "to_model_cols = list(X_tr_sc.drop(columns=['residual_sugar', 'density']).columns)\n",
    "w.display_model_metrics(baseline, tr[to_model_cols], y_tr, y_val, y_ts, X_tr_sc[to_model_cols], X_val_sc[to_model_cols], X_ts_sc[to_model_cols])"
   ]
  },
  {
   "cell_type": "markdown",
   "id": "39329973-ea99-41ff-b38f-0bceb9933363",
   "metadata": {},
   "source": [
    "* All models, except for Lars beat baseline"
   ]
  },
  {
   "cell_type": "markdown",
   "id": "6d85ac30-ea2e-476c-95a0-adde4600de59",
   "metadata": {},
   "source": [
    "## Comparing models - All features\n",
    "* Also running OLS on top 3 RFE features"
   ]
  },
  {
   "cell_type": "code",
   "execution_count": null,
   "id": "f52cc359-a3ca-47eb-aba9-519dcdec95a3",
   "metadata": {},
   "outputs": [],
   "source": [
    "# get model metrics for all features\n",
    "w.display_model_metrics(baseline, tr, y_tr, y_val, y_ts, X_tr_sc, X_val_sc, X_ts_sc)"
   ]
  },
  {
   "cell_type": "markdown",
   "id": "d3fa8e44-a95e-40bf-a33e-1121643eeb5c",
   "metadata": {},
   "source": [
    "* Using all features led to slightly better models\n",
    "* Polynomial Regression, with degrees=2, is the best model"
   ]
  },
  {
   "cell_type": "markdown",
   "id": "23223c6d-3e73-4023-860a-f9096996a35d",
   "metadata": {},
   "source": [
    "# Clustering\n",
    "* Before we move to test, we will see if clustering may improve these models"
   ]
  },
  {
   "cell_type": "markdown",
   "id": "90d10f30-e638-4427-83e1-76bb981cd931",
   "metadata": {},
   "source": [
    "## Cluster 1 - Density-Chlorides"
   ]
  },
  {
   "cell_type": "code",
   "execution_count": null,
   "id": "9ea55266-3059-42c4-8ac8-23015fdd8fbb",
   "metadata": {},
   "outputs": [],
   "source": [
    "tr, val, ts, X_tr, X_val, X_ts, y_tr, y_val, y_ts, to_scale, baseline, X_tr_sc, X_val_sc, X_ts_sc, X_tr2, y_tr2 = ev.density_chlorides_cluster(df)"
   ]
  },
  {
   "cell_type": "code",
   "execution_count": null,
   "id": "6982afc1-f59d-4542-8f9f-9e5f933c6270",
   "metadata": {},
   "outputs": [],
   "source": [
    "# Display cluster #1\n",
    "ev.density_chlorides_cluster_plot(X_tr2, y_tr2)"
   ]
  },
  {
   "cell_type": "markdown",
   "id": "3375facb-94b0-4c75-8fff-19d51d1cdaea",
   "metadata": {},
   "source": [
    "* The cluster plot of density-chlorides splits into 3 sections in the bottom it hues on wine-quality. In the bottom right you'll see a higher concentration of better quality wines. We will attempt to run it throught the models."
   ]
  },
  {
   "cell_type": "markdown",
   "id": "56007c2e-9d1a-47e1-8e45-e26b45fae509",
   "metadata": {},
   "source": [
    "## Cluster 2 Alcohol-Residual Sugar"
   ]
  },
  {
   "cell_type": "code",
   "execution_count": null,
   "id": "35713a98-a7f4-4238-acf7-28afbfcf8890",
   "metadata": {},
   "outputs": [],
   "source": [
    "# Display cluster #2\n",
    "ev.plot_cluster_2(X_tr, y_tr)"
   ]
  },
  {
   "cell_type": "markdown",
   "id": "c363f032-bf64-47ee-af5d-62974e3370d4",
   "metadata": {},
   "source": [
    "* The cluster plot of alcohol-residual sugar splits into 3 sections in the bottom as it hues on wine-quality. No noticable clusters."
   ]
  },
  {
   "cell_type": "markdown",
   "id": "4756cef6-b977-43ee-8194-5fb092afcaf8",
   "metadata": {},
   "source": [
    "## Cluster 3 Sulfur Dioxide-Residual Sugar"
   ]
  },
  {
   "cell_type": "code",
   "execution_count": null,
   "id": "bb000d7e-cca3-475a-b2e9-926f827a9aed",
   "metadata": {},
   "outputs": [],
   "source": [
    "# Display cluster #3\n",
    "ev.plot_cluster_3(X_tr, y_tr)"
   ]
  },
  {
   "cell_type": "markdown",
   "id": "c36181c4-7340-42e8-9707-e23ef737585b",
   "metadata": {},
   "source": [
    "* The cluster plot of total sulfur dioxide-residual sugar splits into 3 sections in the bottom as it hues on wine-quality. No noticable clusters."
   ]
  },
  {
   "cell_type": "markdown",
   "id": "383e2457-41f2-4069-8549-9d590b07dc51",
   "metadata": {},
   "source": [
    "## Comparing models with best cluster"
   ]
  },
  {
   "cell_type": "code",
   "execution_count": null,
   "id": "54393a40-ef22-4238-a8ed-2e9955e4716e",
   "metadata": {},
   "outputs": [],
   "source": [
    "# get model results\n",
    "ev.get_metrics_with_cluster(X_tr2, X_tr_sc, y_tr, X_val_sc, y_val, alpha=1, power=2, degrees=2)"
   ]
  },
  {
   "cell_type": "markdown",
   "id": "a7f23c07-e8c1-4110-b282-c5249351be47",
   "metadata": {},
   "source": [
    "* Original model RMSE is 0.695 and cluster model 0.739\n",
    "* Original model R2 is 0.334 and cluster model 0.246"
   ]
  },
  {
   "cell_type": "markdown",
   "id": "38af26d7-2fc2-47c3-8bf2-cc435eca964d",
   "metadata": {},
   "source": [
    "## Comparing Models\n",
    "* The Polynomial Regression model without the density chloride clusters performed better than the model with the clusters so we will move forward to test with that model"
   ]
  },
  {
   "cell_type": "markdown",
   "id": "f757c82b-fe9e-4cff-966a-5ca738701bf6",
   "metadata": {},
   "source": [
    "## Best Model, Polynomial Regression, on Test"
   ]
  },
  {
   "cell_type": "code",
   "execution_count": null,
   "id": "b4e673af-5c0e-46d0-9ad2-e38c0074cd35",
   "metadata": {},
   "outputs": [],
   "source": [
    "# get test results for final model\n",
    "w.test_best_model(X_ts_sc, y_ts, X_tr_sc, y_tr)"
   ]
  },
  {
   "cell_type": "markdown",
   "id": "a0b5e7d9-7b20-47a0-8d4e-5fd718457ba9",
   "metadata": {},
   "source": [
    "## Modeling Summary\n",
    "* The RMSE for Polynomial Regression on test was 0.713 which beat the baseline of 0.871."
   ]
  },
  {
   "cell_type": "markdown",
   "id": "90a4de71-1dfa-4fb4-9db6-16ad478ecb21",
   "metadata": {},
   "source": [
    "# Conclusions"
   ]
  },
  {
   "cell_type": "markdown",
   "id": "525f5d7c-6d57-46fc-a73b-214d747fb463",
   "metadata": {},
   "source": [
    "## Exploration\n",
    "* The mean wine quality score is 5.87\n",
    "    * all bottles had a score from 1 to 10\n",
    "* No feature correlated more than a .5 correlation coefficient\n",
    "    * alcohol was the highest correlation with a .46\n",
    "* Features affecting wine quality in KBest rank order:"
   ]
  },
  {
   "cell_type": "markdown",
   "id": "e4e2984d-7404-424b-951d-ada68db1737f",
   "metadata": {},
   "source": [
    "     1) alcohol             :   higher value   -> higher quality\n",
    "     2) chlorides           :   lower value    -> higher quality\n",
    "     3) density             :   lower value    -> higher quality\n",
    "     4) volatile_acidity    :   lower value    -> higher quality\n",
    "     5) wine_type           :   white wine     -> higher quality\n",
    "     6) citric_acid         :   higher value   -> higher quality\n",
    "     7) fixed_acidity       :   lower value    -> higher quality\n",
    "     8) free_sulfur_dioxide :   higher value   -> higher quality\n",
    "     9) sulphates           :   higher value   -> higher quality\n",
    "    10) total_sulfur_dioxide:   lower value    -> higher quality\n",
    "    11) ph                  :   higher value   -> higher quality\n",
    "    12) residual_sugar      :   no correlation (but it did help the model slightly)"
   ]
  },
  {
   "cell_type": "markdown",
   "id": "17f540ad-bda0-4fc3-b86d-dcc1a54e0be6",
   "metadata": {},
   "source": [
    "## Modeling\n",
    "* Interestingly, sending in all, features even those not correlated with the target, led to the best performing model\n",
    "* Clustering did not help."
   ]
  },
  {
   "cell_type": "markdown",
   "id": "2908b674-c768-40c2-8f99-0bc4cd59e719",
   "metadata": {},
   "source": [
    "## Recommendations\n",
    "* Create wines that optimize the chemical properties as described above \n",
    "    * i.e. the higher/lower values that correspond with higher quality scores\n",
    "    * This will not guarantee a higher quality wine, but it should increase the probability of creating a higher quality wine"
   ]
  },
  {
   "cell_type": "markdown",
   "id": "f26aeb83-c95f-44d2-8d0d-d5a45a7851ef",
   "metadata": {},
   "source": [
    "## Next steps\n",
    "* Try classifiation models such as knn, etc.\n",
    "* Build separate models for the two wine types (red & white) to see if that would improve model accuracy\n"
   ]
  },
  {
   "cell_type": "code",
   "execution_count": null,
   "id": "9a7debcf-f4b5-413f-bfdf-066233541ec4",
   "metadata": {},
   "outputs": [],
   "source": []
  }
 ],
 "metadata": {
  "kernelspec": {
   "display_name": "Python 3 (ipykernel)",
   "language": "python",
   "name": "python3"
  },
  "language_info": {
   "codemirror_mode": {
    "name": "ipython",
    "version": 3
   },
   "file_extension": ".py",
   "mimetype": "text/x-python",
   "name": "python",
   "nbconvert_exporter": "python",
   "pygments_lexer": "ipython3",
   "version": "3.9.13"
  }
 },
 "nbformat": 4,
 "nbformat_minor": 5
}
