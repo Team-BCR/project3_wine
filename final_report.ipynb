{
 "cells": [
  {
   "cell_type": "markdown",
   "id": "58adc7fc-a001-4cc5-b852-71ec9b6fe01b",
   "metadata": {},
   "source": [
    "# Wine Quality Prediction Project"
   ]
  },
  {
   "cell_type": "markdown",
   "id": "3bde2140-d0ee-4ac2-8326-0a7d51876925",
   "metadata": {},
   "source": [
    "## Goal:\n",
    "- Discover features that affect wine quality\n",
    "- Use features to develop a machine learning model to predict the quality of wine on a scale of 1-10"
   ]
  },
  {
   "cell_type": "markdown",
   "id": "dd199d9a-2435-47fd-bf9e-bf8b4591fb00",
   "metadata": {},
   "source": [
    "# Imports"
   ]
  },
  {
   "cell_type": "code",
   "execution_count": 1,
   "id": "9e5addb5-7672-4766-8666-e4a7a440a482",
   "metadata": {},
   "outputs": [],
   "source": [
    "import numpy as np\n",
    "import pandas as pd\n",
    "\n",
    "import matplotlib.pyplot as plt\n",
    "import seaborn as sns\n",
    "\n",
    "import wrangle as w\n",
    "# import explore as e\n",
    "# import model as m\n",
    "# import evaluate as ev\n",
    "\n",
    "from scipy.stats import pearsonr, spearmanr, f_oneway, ttest_ind\n",
    "\n",
    "import warnings\n",
    "warnings.filterwarnings(\"ignore\")\n",
    "\n",
    "np.random.seed(123)"
   ]
  },
  {
   "cell_type": "markdown",
   "id": "aae87c0f-cef8-4380-97ec-0b20930d5395",
   "metadata": {},
   "source": [
    "# Acquire\n",
    "- Data acquired from [data.world](https://data.world/food/wine_quality)\n",
    "- Downloaded two separate .csv files: 1 for red wine, 1 for white wine\n",
    "- Merged the .csv files into a a single dataframe\n",
    "- Added one column, wine_type, after combining csv files to indicate red or white wine\n",
    "- It contained 6,497 rows and 13 columns before cleaning\n",
    "    - 1599 rows were red wines\n",
    "    - 4898 rows were white wines\n",
    "- Each row represents a single vintage of wine\n",
    "- Each column represents a chemical quality of the wines"
   ]
  },
  {
   "cell_type": "markdown",
   "id": "70cbae68-514e-4709-a682-fbb8eddf254c",
   "metadata": {},
   "source": [
    "# Prepare\n",
    "- Did not remove any columns\n",
    "- Did not rename any columns\n",
    "- Checked for nulls - no null values found\n",
    "- Checked that column data types were appropriate\n",
    "- Outliers: used IQR method and 2 for the multiplier value:\n",
    "    - IQR = Q3 - Q1;  For each column: removed (Q1 - 2 * IQR) AND removed (Q3 + 2 * IQR)\n",
    "    - 867 rows removed\n",
    "    - Began with 6,497\n",
    "    - Ended with 5,630\n",
    "- Encoded categorical variables\n",
    "- Split data into train, validate, and test (60/20/20)\n",
    "- Scaled continuous variables"
   ]
  },
  {
   "cell_type": "markdown",
   "id": "d639ef5a-93ff-49ea-bee9-d91f8c2c7ee3",
   "metadata": {},
   "source": [
    "# Data Dictionary\n",
    "\n",
    "| Feature | Definition (measurement)|\n",
    "|:--------|:-----------|\n",
    "|Fixed Acidity| The fixed amount of tartaric acid. (g/L)|\n",
    "|Volatile Acidity| A wine's acetic acid; (High Volatility = High Vinegar-like smell). (g/L)|\n",
    "|Citric Acid| The amount of citric acid; (Raises acidity, Lowers shelf-life). (g/L)|\n",
    "|Residual Sugar| Leftover sugars after fermentation. (g/L)|\n",
    "|Chlorides| Increases sodium levels; (Affects color, clarity, flavor, aroma). (g/L)|\n",
    "|Free Sulfur Dioxide| Related to pH. Determines how much SO2 is available. (Increases shelf-life, decreases palatability). (mg/L)|\n",
    "|Total Sulfur Dioxide| Summation of free and bound SO2. (Limited to 350ppm: 0-150, low-processed, 150+ highly processed). (mg/L)|\n",
    "|Density| Between 1.08 and 1.09. (Insight into fermentation process of yeast growth). (g/L)|\n",
    "|pH| 2.5: more acidic - 4.5: less acidic (range)|\n",
    "|Sulphates| Added to stop fermentation (Preservative) (g/L)|\n",
    "|Alcohol| Related to Residual Sugars. By-product of fermentation process (vol%)|\n",
    "|Quality (Target)| Score assigned between 0 and 10; 0=low, 10=best|\n",
    "|Wine Type| Red or White|"
   ]
  },
  {
   "cell_type": "code",
   "execution_count": 2,
   "id": "be32129e-8dad-4f08-9f51-79597f7e9169",
   "metadata": {},
   "outputs": [
    {
     "name": "stdout",
     "output_type": "stream",
     "text": [
      "Total of rows originally: 6497\n",
      "Total of rows removed: 867\n",
      "New total of rows: 5630\n"
     ]
    }
   ],
   "source": [
    "# acquire and prepare wine data\n",
    "df = w.wrangle_wine()"
   ]
  },
  {
   "cell_type": "code",
   "execution_count": 3,
   "id": "e359e1e4-9c65-4e85-a577-7ea81cf75e59",
   "metadata": {},
   "outputs": [
    {
     "data": {
      "text/html": [
       "<div>\n",
       "<style scoped>\n",
       "    .dataframe tbody tr th:only-of-type {\n",
       "        vertical-align: middle;\n",
       "    }\n",
       "\n",
       "    .dataframe tbody tr th {\n",
       "        vertical-align: top;\n",
       "    }\n",
       "\n",
       "    .dataframe thead th {\n",
       "        text-align: right;\n",
       "    }\n",
       "</style>\n",
       "<table border=\"1\" class=\"dataframe\">\n",
       "  <thead>\n",
       "    <tr style=\"text-align: right;\">\n",
       "      <th></th>\n",
       "      <th>fixed_acidity</th>\n",
       "      <th>volatile_acidity</th>\n",
       "      <th>citric_acid</th>\n",
       "      <th>residual_sugar</th>\n",
       "      <th>chlorides</th>\n",
       "      <th>free_sulfur_dioxide</th>\n",
       "      <th>total_sulfur_dioxide</th>\n",
       "      <th>density</th>\n",
       "      <th>ph</th>\n",
       "      <th>sulphates</th>\n",
       "      <th>alcohol</th>\n",
       "      <th>quality</th>\n",
       "      <th>wine_type_white_wine</th>\n",
       "    </tr>\n",
       "  </thead>\n",
       "  <tbody>\n",
       "    <tr>\n",
       "      <th>0</th>\n",
       "      <td>7.4</td>\n",
       "      <td>0.70</td>\n",
       "      <td>0.00</td>\n",
       "      <td>1.9</td>\n",
       "      <td>0.076</td>\n",
       "      <td>11.0</td>\n",
       "      <td>34.0</td>\n",
       "      <td>0.9978</td>\n",
       "      <td>3.51</td>\n",
       "      <td>0.56</td>\n",
       "      <td>9.4</td>\n",
       "      <td>5</td>\n",
       "      <td>0</td>\n",
       "    </tr>\n",
       "    <tr>\n",
       "      <th>4</th>\n",
       "      <td>7.4</td>\n",
       "      <td>0.70</td>\n",
       "      <td>0.00</td>\n",
       "      <td>1.9</td>\n",
       "      <td>0.076</td>\n",
       "      <td>11.0</td>\n",
       "      <td>34.0</td>\n",
       "      <td>0.9978</td>\n",
       "      <td>3.51</td>\n",
       "      <td>0.56</td>\n",
       "      <td>9.4</td>\n",
       "      <td>5</td>\n",
       "      <td>0</td>\n",
       "    </tr>\n",
       "    <tr>\n",
       "      <th>5</th>\n",
       "      <td>7.4</td>\n",
       "      <td>0.66</td>\n",
       "      <td>0.00</td>\n",
       "      <td>1.8</td>\n",
       "      <td>0.075</td>\n",
       "      <td>13.0</td>\n",
       "      <td>40.0</td>\n",
       "      <td>0.9978</td>\n",
       "      <td>3.51</td>\n",
       "      <td>0.56</td>\n",
       "      <td>9.4</td>\n",
       "      <td>5</td>\n",
       "      <td>0</td>\n",
       "    </tr>\n",
       "    <tr>\n",
       "      <th>6</th>\n",
       "      <td>7.9</td>\n",
       "      <td>0.60</td>\n",
       "      <td>0.06</td>\n",
       "      <td>1.6</td>\n",
       "      <td>0.069</td>\n",
       "      <td>15.0</td>\n",
       "      <td>59.0</td>\n",
       "      <td>0.9964</td>\n",
       "      <td>3.30</td>\n",
       "      <td>0.46</td>\n",
       "      <td>9.4</td>\n",
       "      <td>5</td>\n",
       "      <td>0</td>\n",
       "    </tr>\n",
       "    <tr>\n",
       "      <th>7</th>\n",
       "      <td>7.3</td>\n",
       "      <td>0.65</td>\n",
       "      <td>0.00</td>\n",
       "      <td>1.2</td>\n",
       "      <td>0.065</td>\n",
       "      <td>15.0</td>\n",
       "      <td>21.0</td>\n",
       "      <td>0.9946</td>\n",
       "      <td>3.39</td>\n",
       "      <td>0.47</td>\n",
       "      <td>10.0</td>\n",
       "      <td>7</td>\n",
       "      <td>0</td>\n",
       "    </tr>\n",
       "  </tbody>\n",
       "</table>\n",
       "</div>"
      ],
      "text/plain": [
       "   fixed_acidity  volatile_acidity  citric_acid  residual_sugar  chlorides  \\\n",
       "0            7.4              0.70         0.00             1.9      0.076   \n",
       "4            7.4              0.70         0.00             1.9      0.076   \n",
       "5            7.4              0.66         0.00             1.8      0.075   \n",
       "6            7.9              0.60         0.06             1.6      0.069   \n",
       "7            7.3              0.65         0.00             1.2      0.065   \n",
       "\n",
       "   free_sulfur_dioxide  total_sulfur_dioxide  density    ph  sulphates  \\\n",
       "0                 11.0                  34.0   0.9978  3.51       0.56   \n",
       "4                 11.0                  34.0   0.9978  3.51       0.56   \n",
       "5                 13.0                  40.0   0.9978  3.51       0.56   \n",
       "6                 15.0                  59.0   0.9964  3.30       0.46   \n",
       "7                 15.0                  21.0   0.9946  3.39       0.47   \n",
       "\n",
       "   alcohol  quality  wine_type_white_wine  \n",
       "0      9.4        5                     0  \n",
       "4      9.4        5                     0  \n",
       "5      9.4        5                     0  \n",
       "6      9.4        5                     0  \n",
       "7     10.0        7                     0  "
      ]
     },
     "execution_count": 3,
     "metadata": {},
     "output_type": "execute_result"
    }
   ],
   "source": [
    "df.head()"
   ]
  },
  {
   "cell_type": "code",
   "execution_count": 4,
   "id": "1740ce13-8458-40e5-8277-3245a3f501ea",
   "metadata": {},
   "outputs": [
    {
     "name": "stdout",
     "output_type": "stream",
     "text": [
      "Train: (3378, 13)\n",
      "Validate: (1126, 13)\n",
      "Test: (1126, 13)\n"
     ]
    }
   ],
   "source": [
    "# split into train/validate/test datasets (tr/val/ts)\n",
    "tr, val, ts = w.get_split(df)"
   ]
  },
  {
   "cell_type": "markdown",
   "id": "22d48fbc-168e-4fb4-b6f0-3c48309f4cbe",
   "metadata": {},
   "source": [
    "# A brief look at the data"
   ]
  },
  {
   "cell_type": "code",
   "execution_count": 5,
   "id": "6fe6a1b7-7ca0-4b60-96ab-33605f206802",
   "metadata": {},
   "outputs": [
    {
     "data": {
      "text/html": [
       "<div>\n",
       "<style scoped>\n",
       "    .dataframe tbody tr th:only-of-type {\n",
       "        vertical-align: middle;\n",
       "    }\n",
       "\n",
       "    .dataframe tbody tr th {\n",
       "        vertical-align: top;\n",
       "    }\n",
       "\n",
       "    .dataframe thead th {\n",
       "        text-align: right;\n",
       "    }\n",
       "</style>\n",
       "<table border=\"1\" class=\"dataframe\">\n",
       "  <thead>\n",
       "    <tr style=\"text-align: right;\">\n",
       "      <th></th>\n",
       "      <th>fixed_acidity</th>\n",
       "      <th>volatile_acidity</th>\n",
       "      <th>citric_acid</th>\n",
       "      <th>residual_sugar</th>\n",
       "      <th>chlorides</th>\n",
       "      <th>free_sulfur_dioxide</th>\n",
       "      <th>total_sulfur_dioxide</th>\n",
       "      <th>density</th>\n",
       "      <th>ph</th>\n",
       "      <th>sulphates</th>\n",
       "      <th>alcohol</th>\n",
       "      <th>quality</th>\n",
       "      <th>wine_type_white_wine</th>\n",
       "    </tr>\n",
       "  </thead>\n",
       "  <tbody>\n",
       "    <tr>\n",
       "      <th>2980</th>\n",
       "      <td>5.7</td>\n",
       "      <td>0.43</td>\n",
       "      <td>0.30</td>\n",
       "      <td>5.7</td>\n",
       "      <td>0.039</td>\n",
       "      <td>24.0</td>\n",
       "      <td>98.0</td>\n",
       "      <td>0.99200</td>\n",
       "      <td>3.54</td>\n",
       "      <td>0.61</td>\n",
       "      <td>12.3</td>\n",
       "      <td>7</td>\n",
       "      <td>1</td>\n",
       "    </tr>\n",
       "    <tr>\n",
       "      <th>4035</th>\n",
       "      <td>6.9</td>\n",
       "      <td>0.43</td>\n",
       "      <td>0.28</td>\n",
       "      <td>9.4</td>\n",
       "      <td>0.056</td>\n",
       "      <td>29.0</td>\n",
       "      <td>183.0</td>\n",
       "      <td>0.99594</td>\n",
       "      <td>3.17</td>\n",
       "      <td>0.43</td>\n",
       "      <td>9.4</td>\n",
       "      <td>5</td>\n",
       "      <td>1</td>\n",
       "    </tr>\n",
       "    <tr>\n",
       "      <th>3741</th>\n",
       "      <td>7.5</td>\n",
       "      <td>0.26</td>\n",
       "      <td>0.52</td>\n",
       "      <td>13.2</td>\n",
       "      <td>0.047</td>\n",
       "      <td>64.0</td>\n",
       "      <td>179.0</td>\n",
       "      <td>0.99820</td>\n",
       "      <td>3.10</td>\n",
       "      <td>0.46</td>\n",
       "      <td>9.0</td>\n",
       "      <td>5</td>\n",
       "      <td>1</td>\n",
       "    </tr>\n",
       "    <tr>\n",
       "      <th>4485</th>\n",
       "      <td>6.6</td>\n",
       "      <td>0.41</td>\n",
       "      <td>0.31</td>\n",
       "      <td>1.6</td>\n",
       "      <td>0.042</td>\n",
       "      <td>18.0</td>\n",
       "      <td>101.0</td>\n",
       "      <td>0.99195</td>\n",
       "      <td>3.13</td>\n",
       "      <td>0.41</td>\n",
       "      <td>10.5</td>\n",
       "      <td>5</td>\n",
       "      <td>1</td>\n",
       "    </tr>\n",
       "    <tr>\n",
       "      <th>5778</th>\n",
       "      <td>6.9</td>\n",
       "      <td>0.24</td>\n",
       "      <td>0.40</td>\n",
       "      <td>15.4</td>\n",
       "      <td>0.052</td>\n",
       "      <td>81.0</td>\n",
       "      <td>198.0</td>\n",
       "      <td>0.99860</td>\n",
       "      <td>3.20</td>\n",
       "      <td>0.69</td>\n",
       "      <td>9.4</td>\n",
       "      <td>5</td>\n",
       "      <td>1</td>\n",
       "    </tr>\n",
       "  </tbody>\n",
       "</table>\n",
       "</div>"
      ],
      "text/plain": [
       "      fixed_acidity  volatile_acidity  citric_acid  residual_sugar  chlorides  \\\n",
       "2980            5.7              0.43         0.30             5.7      0.039   \n",
       "4035            6.9              0.43         0.28             9.4      0.056   \n",
       "3741            7.5              0.26         0.52            13.2      0.047   \n",
       "4485            6.6              0.41         0.31             1.6      0.042   \n",
       "5778            6.9              0.24         0.40            15.4      0.052   \n",
       "\n",
       "      free_sulfur_dioxide  total_sulfur_dioxide  density    ph  sulphates  \\\n",
       "2980                 24.0                  98.0  0.99200  3.54       0.61   \n",
       "4035                 29.0                 183.0  0.99594  3.17       0.43   \n",
       "3741                 64.0                 179.0  0.99820  3.10       0.46   \n",
       "4485                 18.0                 101.0  0.99195  3.13       0.41   \n",
       "5778                 81.0                 198.0  0.99860  3.20       0.69   \n",
       "\n",
       "      alcohol  quality  wine_type_white_wine  \n",
       "2980     12.3        7                     1  \n",
       "4035      9.4        5                     1  \n",
       "3741      9.0        5                     1  \n",
       "4485     10.5        5                     1  \n",
       "5778      9.4        5                     1  "
      ]
     },
     "execution_count": 5,
     "metadata": {},
     "output_type": "execute_result"
    }
   ],
   "source": [
    "tr.head()"
   ]
  },
  {
   "cell_type": "markdown",
   "id": "5423f5c5-8e6a-453f-91c9-4e94665a470c",
   "metadata": {},
   "source": [
    "## A summary of the data"
   ]
  },
  {
   "cell_type": "code",
   "execution_count": 6,
   "id": "e70fe2b1-c77a-43ae-86ac-4a2632dc3225",
   "metadata": {},
   "outputs": [
    {
     "name": "stdout",
     "output_type": "stream",
     "text": [
      "<class 'pandas.core.frame.DataFrame'>\n",
      "Int64Index: 3378 entries, 2980 to 4990\n",
      "Data columns (total 13 columns):\n",
      " #   Column                Non-Null Count  Dtype  \n",
      "---  ------                --------------  -----  \n",
      " 0   fixed_acidity         3378 non-null   float64\n",
      " 1   volatile_acidity      3378 non-null   float64\n",
      " 2   citric_acid           3378 non-null   float64\n",
      " 3   residual_sugar        3378 non-null   float64\n",
      " 4   chlorides             3378 non-null   float64\n",
      " 5   free_sulfur_dioxide   3378 non-null   float64\n",
      " 6   total_sulfur_dioxide  3378 non-null   float64\n",
      " 7   density               3378 non-null   float64\n",
      " 8   ph                    3378 non-null   float64\n",
      " 9   sulphates             3378 non-null   float64\n",
      " 10  alcohol               3378 non-null   float64\n",
      " 11  quality               3378 non-null   int64  \n",
      " 12  wine_type_white_wine  3378 non-null   uint8  \n",
      "dtypes: float64(11), int64(1), uint8(1)\n",
      "memory usage: 346.4 KB\n"
     ]
    }
   ],
   "source": [
    "tr.info()"
   ]
  },
  {
   "cell_type": "code",
   "execution_count": 7,
   "id": "b24999eb-a486-4a38-8264-597f3056570b",
   "metadata": {},
   "outputs": [
    {
     "data": {
      "text/html": [
       "<div>\n",
       "<style scoped>\n",
       "    .dataframe tbody tr th:only-of-type {\n",
       "        vertical-align: middle;\n",
       "    }\n",
       "\n",
       "    .dataframe tbody tr th {\n",
       "        vertical-align: top;\n",
       "    }\n",
       "\n",
       "    .dataframe thead th {\n",
       "        text-align: right;\n",
       "    }\n",
       "</style>\n",
       "<table border=\"1\" class=\"dataframe\">\n",
       "  <thead>\n",
       "    <tr style=\"text-align: right;\">\n",
       "      <th></th>\n",
       "      <th>fixed_acidity</th>\n",
       "      <th>volatile_acidity</th>\n",
       "      <th>citric_acid</th>\n",
       "      <th>residual_sugar</th>\n",
       "      <th>chlorides</th>\n",
       "      <th>free_sulfur_dioxide</th>\n",
       "      <th>total_sulfur_dioxide</th>\n",
       "      <th>density</th>\n",
       "      <th>ph</th>\n",
       "      <th>sulphates</th>\n",
       "      <th>alcohol</th>\n",
       "      <th>quality</th>\n",
       "      <th>wine_type_white_wine</th>\n",
       "    </tr>\n",
       "  </thead>\n",
       "  <tbody>\n",
       "    <tr>\n",
       "      <th>count</th>\n",
       "      <td>3378.000000</td>\n",
       "      <td>3378.000000</td>\n",
       "      <td>3378.000000</td>\n",
       "      <td>3378.000000</td>\n",
       "      <td>3378.000000</td>\n",
       "      <td>3378.000000</td>\n",
       "      <td>3378.000000</td>\n",
       "      <td>3378.000000</td>\n",
       "      <td>3378.000000</td>\n",
       "      <td>3378.000000</td>\n",
       "      <td>3378.000000</td>\n",
       "      <td>3378.000000</td>\n",
       "      <td>3378.000000</td>\n",
       "    </tr>\n",
       "    <tr>\n",
       "      <th>mean</th>\n",
       "      <td>6.996137</td>\n",
       "      <td>0.318283</td>\n",
       "      <td>0.303535</td>\n",
       "      <td>5.641933</td>\n",
       "      <td>0.048866</td>\n",
       "      <td>31.185465</td>\n",
       "      <td>120.457075</td>\n",
       "      <td>0.994345</td>\n",
       "      <td>3.219982</td>\n",
       "      <td>0.511578</td>\n",
       "      <td>10.541462</td>\n",
       "      <td>5.867377</td>\n",
       "      <td>0.818532</td>\n",
       "    </tr>\n",
       "    <tr>\n",
       "      <th>std</th>\n",
       "      <td>0.960999</td>\n",
       "      <td>0.136004</td>\n",
       "      <td>0.118204</td>\n",
       "      <td>4.723342</td>\n",
       "      <td>0.017296</td>\n",
       "      <td>16.269405</td>\n",
       "      <td>52.878207</td>\n",
       "      <td>0.002875</td>\n",
       "      <td>0.154876</td>\n",
       "      <td>0.122579</td>\n",
       "      <td>1.213733</td>\n",
       "      <td>0.870771</td>\n",
       "      <td>0.385463</td>\n",
       "    </tr>\n",
       "    <tr>\n",
       "      <th>min</th>\n",
       "      <td>3.900000</td>\n",
       "      <td>0.080000</td>\n",
       "      <td>0.000000</td>\n",
       "      <td>0.600000</td>\n",
       "      <td>0.009000</td>\n",
       "      <td>1.000000</td>\n",
       "      <td>6.000000</td>\n",
       "      <td>0.987110</td>\n",
       "      <td>2.720000</td>\n",
       "      <td>0.250000</td>\n",
       "      <td>8.400000</td>\n",
       "      <td>3.000000</td>\n",
       "      <td>0.000000</td>\n",
       "    </tr>\n",
       "    <tr>\n",
       "      <th>25%</th>\n",
       "      <td>6.400000</td>\n",
       "      <td>0.220000</td>\n",
       "      <td>0.240000</td>\n",
       "      <td>1.800000</td>\n",
       "      <td>0.037000</td>\n",
       "      <td>18.000000</td>\n",
       "      <td>88.000000</td>\n",
       "      <td>0.992000</td>\n",
       "      <td>3.110000</td>\n",
       "      <td>0.420000</td>\n",
       "      <td>9.500000</td>\n",
       "      <td>5.000000</td>\n",
       "      <td>1.000000</td>\n",
       "    </tr>\n",
       "    <tr>\n",
       "      <th>50%</th>\n",
       "      <td>6.900000</td>\n",
       "      <td>0.280000</td>\n",
       "      <td>0.300000</td>\n",
       "      <td>3.600000</td>\n",
       "      <td>0.045000</td>\n",
       "      <td>30.000000</td>\n",
       "      <td>121.000000</td>\n",
       "      <td>0.994400</td>\n",
       "      <td>3.210000</td>\n",
       "      <td>0.500000</td>\n",
       "      <td>10.400000</td>\n",
       "      <td>6.000000</td>\n",
       "      <td>1.000000</td>\n",
       "    </tr>\n",
       "    <tr>\n",
       "      <th>75%</th>\n",
       "      <td>7.500000</td>\n",
       "      <td>0.380000</td>\n",
       "      <td>0.370000</td>\n",
       "      <td>8.500000</td>\n",
       "      <td>0.056000</td>\n",
       "      <td>42.000000</td>\n",
       "      <td>156.000000</td>\n",
       "      <td>0.996600</td>\n",
       "      <td>3.320000</td>\n",
       "      <td>0.587500</td>\n",
       "      <td>11.400000</td>\n",
       "      <td>6.000000</td>\n",
       "      <td>1.000000</td>\n",
       "    </tr>\n",
       "    <tr>\n",
       "      <th>max</th>\n",
       "      <td>10.200000</td>\n",
       "      <td>0.745000</td>\n",
       "      <td>0.630000</td>\n",
       "      <td>20.800000</td>\n",
       "      <td>0.102000</td>\n",
       "      <td>87.000000</td>\n",
       "      <td>282.000000</td>\n",
       "      <td>1.001960</td>\n",
       "      <td>3.720000</td>\n",
       "      <td>0.920000</td>\n",
       "      <td>14.000000</td>\n",
       "      <td>9.000000</td>\n",
       "      <td>1.000000</td>\n",
       "    </tr>\n",
       "  </tbody>\n",
       "</table>\n",
       "</div>"
      ],
      "text/plain": [
       "       fixed_acidity  volatile_acidity  citric_acid  residual_sugar  \\\n",
       "count    3378.000000       3378.000000  3378.000000     3378.000000   \n",
       "mean        6.996137          0.318283     0.303535        5.641933   \n",
       "std         0.960999          0.136004     0.118204        4.723342   \n",
       "min         3.900000          0.080000     0.000000        0.600000   \n",
       "25%         6.400000          0.220000     0.240000        1.800000   \n",
       "50%         6.900000          0.280000     0.300000        3.600000   \n",
       "75%         7.500000          0.380000     0.370000        8.500000   \n",
       "max        10.200000          0.745000     0.630000       20.800000   \n",
       "\n",
       "         chlorides  free_sulfur_dioxide  total_sulfur_dioxide      density  \\\n",
       "count  3378.000000          3378.000000           3378.000000  3378.000000   \n",
       "mean      0.048866            31.185465            120.457075     0.994345   \n",
       "std       0.017296            16.269405             52.878207     0.002875   \n",
       "min       0.009000             1.000000              6.000000     0.987110   \n",
       "25%       0.037000            18.000000             88.000000     0.992000   \n",
       "50%       0.045000            30.000000            121.000000     0.994400   \n",
       "75%       0.056000            42.000000            156.000000     0.996600   \n",
       "max       0.102000            87.000000            282.000000     1.001960   \n",
       "\n",
       "                ph    sulphates      alcohol      quality  \\\n",
       "count  3378.000000  3378.000000  3378.000000  3378.000000   \n",
       "mean      3.219982     0.511578    10.541462     5.867377   \n",
       "std       0.154876     0.122579     1.213733     0.870771   \n",
       "min       2.720000     0.250000     8.400000     3.000000   \n",
       "25%       3.110000     0.420000     9.500000     5.000000   \n",
       "50%       3.210000     0.500000    10.400000     6.000000   \n",
       "75%       3.320000     0.587500    11.400000     6.000000   \n",
       "max       3.720000     0.920000    14.000000     9.000000   \n",
       "\n",
       "       wine_type_white_wine  \n",
       "count           3378.000000  \n",
       "mean               0.818532  \n",
       "std                0.385463  \n",
       "min                0.000000  \n",
       "25%                1.000000  \n",
       "50%                1.000000  \n",
       "75%                1.000000  \n",
       "max                1.000000  "
      ]
     },
     "execution_count": 7,
     "metadata": {},
     "output_type": "execute_result"
    }
   ],
   "source": [
    "tr.describe()"
   ]
  },
  {
   "cell_type": "markdown",
   "id": "f098fa1c-9ded-4a78-9ab9-ecfa70543e59",
   "metadata": {},
   "source": [
    "# Explore"
   ]
  },
  {
   "cell_type": "markdown",
   "id": "a5c5a01d-31a8-40cb-aa0b-b9f14a750e31",
   "metadata": {},
   "source": [
    "## What is the distribution of the target?)\n",
    "- NOTE: this question is more of a look at the data, not a stats test question"
   ]
  },
  {
   "cell_type": "code",
   "execution_count": 8,
   "id": "799e28c7-9419-414c-9b31-d56d313c16b1",
   "metadata": {},
   "outputs": [
    {
     "data": {
      "image/png": "[encoded data removed]",
      "text/plain": [
       "<Figure size 640x480 with 1 Axes>"
      ]
     },
     "metadata": {},
     "output_type": "display_data"
    }
   ],
   "source": [
    "# get a histplot of quality\n",
    "sns.histplot(df.quality)\n",
    "plt.show()"
   ]
  },
  {
   "cell_type": "markdown",
   "id": "692e2149-b660-4f08-af79-f55dc288fcf0",
   "metadata": {},
   "source": [
    "## Question 1: Is alcohol associated with quality?"
   ]
  },
  {
   "cell_type": "code",
   "execution_count": 9,
   "id": "b4d89248-6fdb-476c-9aec-7056d432effc",
   "metadata": {},
   "outputs": [
    {
     "data": {
      "image/png": "[encoded data removed]",
      "text/plain": [
       "<Figure size 640x480 with 1 Axes>"
      ]
     },
     "metadata": {},
     "output_type": "display_data"
    }
   ],
   "source": [
    "# Visualize: get a regplot of alcohol vs quality on train\n",
    "sns.regplot(data = tr, x= 'alcohol', y='quality', line_kws = {'color': 'red'})\n",
    "plt.xlabel('alcohol % by volume')\n",
    "plt.ylabel('wine quality score')\n",
    "plt.show()"
   ]
  },
  {
   "cell_type": "markdown",
   "id": "0be0c02b-bc5b-4ea2-8cfd-e4d0bed55081",
   "metadata": {},
   "source": [
    "### Analyze alcohol vs quality with stats\n",
    "- $H_0$: There is NO relationship between alcohol and quality\n",
    "- $H_a$: There IS a relationship\n",
    "- $\\alpha$ = .05\n",
    "    - Utilize spearmanr - we are comparing continuous variables, normally distributed, but UNequal variance"
   ]
  },
  {
   "cell_type": "code",
   "execution_count": 10,
   "id": "3ee0e42c-71e8-4a04-aecd-17ac6a42dacc",
   "metadata": {},
   "outputs": [
    {
     "data": {
      "text/plain": [
       "SpearmanrResult(correlation=0.46234896005122295, pvalue=1.456181106276295e-178)"
      ]
     },
     "execution_count": 10,
     "metadata": {},
     "output_type": "execute_result"
    }
   ],
   "source": [
    "# get the stats from a pearsonr test on alcohol vs quality\n",
    "spearmanr(tr.alcohol, tr.quality)"
   ]
  },
  {
   "cell_type": "markdown",
   "id": "f4bc445a-23c3-42ab-8b61-b44b84fad81c",
   "metadata": {},
   "source": [
    "### Summarize\n",
    "- p is < $\\alpha$, so we can reject the $H_0$ which suggest the $H_a$, i.e. there IS a relationship between alcohol and quality: as alcohol by volume increases, quality increases in the dataset"
   ]
  },
  {
   "cell_type": "markdown",
   "id": "9ab029ee-2e57-4241-a727-6d8646873f8d",
   "metadata": {},
   "source": [
    "## Question 2: Is chlorides associated with quality?)"
   ]
  },
  {
   "cell_type": "code",
   "execution_count": 11,
   "id": "7ca01a96-cdbf-4fdc-a147-37981a5ffd62",
   "metadata": {},
   "outputs": [
    {
     "data": {
      "image/png": "[encoded data removed]",
      "text/plain": [
       "<Figure size 640x480 with 1 Axes>"
      ]
     },
     "metadata": {},
     "output_type": "display_data"
    }
   ],
   "source": [
    "# Visualize: get a regplot of chlorides vs quality\n",
    "sns.regplot(data=tr, x='chlorides', y='quality', line_kws = {'color': 'red'})\n",
    "plt.xlabel('chlorides (g/L)')\n",
    "plt.ylabel('wine quality score')\n",
    "plt.show()"
   ]
  },
  {
   "cell_type": "markdown",
   "id": "914c5bf2-e9b5-42b3-8723-bea67545d53f",
   "metadata": {},
   "source": [
    "### Analyze chlorides vs quality with stats\n",
    "- $H_0$: There is NO relationship between chlorides and quality\n",
    "- $H_a$: There IS a relationship\n",
    "- $\\alpha$ = .05\n",
    "    - Utilize spearmanr - we are comparing continuous variables, normally distributed, but UNequal variance"
   ]
  },
  {
   "cell_type": "code",
   "execution_count": 12,
   "id": "abeef95f-c078-4b78-9676-f8b5b9c6ba9f",
   "metadata": {},
   "outputs": [
    {
     "data": {
      "text/plain": [
       "SpearmanrResult(correlation=-0.3145155116581846, pvalue=1.9029656621476643e-78)"
      ]
     },
     "execution_count": 12,
     "metadata": {},
     "output_type": "execute_result"
    }
   ],
   "source": [
    "# get the stats from a pearsonr test on chlorides vs quality\n",
    "spearmanr(tr.chlorides, tr.quality)"
   ]
  },
  {
   "cell_type": "markdown",
   "id": "c412b2fb-1c5e-4384-ae8f-26a88747f998",
   "metadata": {},
   "source": [
    "### Summarize\n",
    "- p is < $\\alpha$, so we can reject the $H_0$ which suggest the $H_a$, i.e. there IS a relationship between chlorides and quality: a lower value for chlorides correlates with an increase in quality"
   ]
  },
  {
   "cell_type": "markdown",
   "id": "6b59bf89-7cd7-45c1-8993-e01232adc37f",
   "metadata": {},
   "source": [
    "## Question 3 Is residual_sugar associated with quality?"
   ]
  },
  {
   "cell_type": "code",
   "execution_count": 13,
   "id": "be92c1e8-7bf5-4805-8802-3628f17f9c90",
   "metadata": {},
   "outputs": [
    {
     "data": {
      "image/png": "[encoded data removed]",
      "text/plain": [
       "<Figure size 640x480 with 1 Axes>"
      ]
     },
     "metadata": {},
     "output_type": "display_data"
    }
   ],
   "source": [
    "# Visualize: get a regplot of residual_sugar vs quality on train\n",
    "sns.regplot(data=tr, x='residual_sugar', y='quality', line_kws = {'color': 'red'})\n",
    "plt.xlabel('residual sugar (g/L)')\n",
    "plt.ylabel('wine quality score')\n",
    "plt.show()"
   ]
  },
  {
   "cell_type": "markdown",
   "id": "dcf41d59-f837-4c10-8393-303b8c7f1cb6",
   "metadata": {},
   "source": [
    "### Analyze residual_sugar vs quality with stats\n",
    "- $H_0$: There is NO relationship between residual_sugar and quality\n",
    "- $H_a$: There IS a relationship\n",
    "- $\\alpha$ = .05\n",
    "    - Utilize spearmanr - we are comparing continuous variables, normally distributed, but UNequal variance"
   ]
  },
  {
   "cell_type": "code",
   "execution_count": 14,
   "id": "b885b43a-8cdb-4713-be95-11f6584dca4b",
   "metadata": {},
   "outputs": [
    {
     "data": {
      "text/plain": [
       "SpearmanrResult(correlation=-0.029565525964640713, pvalue=0.08577753023737957)"
      ]
     },
     "execution_count": 14,
     "metadata": {},
     "output_type": "execute_result"
    }
   ],
   "source": [
    "# get the stats from a pearsonr test on chlorides vs quality\n",
    "spearmanr(tr.residual_sugar, tr.quality)"
   ]
  },
  {
   "cell_type": "markdown",
   "id": "575b20c3-5452-4d79-b58a-94e396174c7c",
   "metadata": {},
   "source": [
    "### Summarize\n",
    "- p is > $\\alpha$, so we CANNOT reject the $H_0$ i.e. there is NOT a relationship between residual_sugar and quality"
   ]
  },
  {
   "cell_type": "markdown",
   "id": "5bcb94d7-9b6f-499c-a02c-5007c91cef09",
   "metadata": {},
   "source": [
    "## Question 4 Is alcohol associated with density?\n",
    "- Chemistry knowledge suggest these two features are very closely related, and therefore we should, perhaps, only send one in to our models"
   ]
  },
  {
   "cell_type": "code",
   "execution_count": 15,
   "id": "71c328d9-b648-492a-bc80-0ca403429a01",
   "metadata": {},
   "outputs": [
    {
     "data": {
      "image/png": "[encoded data removed]",
      "text/plain": [
       "<Figure size 640x480 with 1 Axes>"
      ]
     },
     "metadata": {},
     "output_type": "display_data"
    }
   ],
   "source": [
    "# Visualize: get a regplot of alcohol vs density on train\n",
    "sns.regplot(data=tr, x='alcohol', y='density', line_kws = {'color': 'red'})\n",
    "plt.xlabel('alcohol % by volume')\n",
    "plt.ylabel('density (g/l)')\n",
    "plt.show()"
   ]
  },
  {
   "cell_type": "markdown",
   "id": "a669be59-4ecc-4339-a90c-97fc39fb7db2",
   "metadata": {},
   "source": [
    "### Analyze alcohol vs density with stats\n",
    "- $H_0$: There is NO relationship between alcohol and density\n",
    "- $H_a$: There IS a relationship\n",
    "- $\\alpha$ = .05\n",
    "    - Utilize spearmanr - we are comparing continuous variables, normally distributed, but UNequal variance"
   ]
  },
  {
   "cell_type": "code",
   "execution_count": 16,
   "id": "0ce59fa9-b6b8-4d10-9956-33c4eb13407a",
   "metadata": {},
   "outputs": [
    {
     "data": {
      "text/plain": [
       "SpearmanrResult(correlation=-0.7729668005975888, pvalue=0.0)"
      ]
     },
     "execution_count": 16,
     "metadata": {},
     "output_type": "execute_result"
    }
   ],
   "source": [
    "# get the stats from a pearsonr test on alcohol vs density\n",
    "spearmanr(tr.alcohol, tr.density)"
   ]
  },
  {
   "cell_type": "markdown",
   "id": "29f18be1-aa64-4d65-82b0-a51bf2552cea",
   "metadata": {},
   "source": [
    "### Summarize\n",
    "- p is < $\\alpha$, so we can reject the $H_0$ which suggest the $H_a$, i.e. there IS a relationship between alcohol and density; furthermore, the correlation coefficient is -0.77, i.e. highly correlated (closer to -1 is more correlated)"
   ]
  },
  {
   "cell_type": "markdown",
   "id": "61405f05-c95d-4259-8199-749c1c5687c0",
   "metadata": {},
   "source": [
    "## Exploration Summary\n",
    "* No feature had a strong correlation with quality by itself; alcohol was the strongest with a .46 correlation coefficient\n",
    "* However, most features had some relationship with quality by themselves (stats tests for other features completed in separate working notebook)\n",
    "* density was closely correlated with alcohol\n",
    "* PUT SOMETHING IN HERE ABOUT CLUSTERS\n"
   ]
  },
  {
   "cell_type": "markdown",
   "id": "1edf3028-b066-4bc7-b36f-973e93d1cf00",
   "metadata": {},
   "source": [
    "### Features we are moving to modeling with\n",
    "* fixed_acidity\n",
    "* volatile_acidity\n",
    "* citric_acid\n",
    "* chlorides\n",
    "* free_sulfur_dioxide\n",
    "* total_sulfur_dioxide\n",
    "* ph\n",
    "* sulphates\n",
    "* alcohol\n",
    "* wine_type"
   ]
  },
  {
   "cell_type": "markdown",
   "id": "03106467-78b4-4b91-ad02-ee5e1bd347b9",
   "metadata": {},
   "source": [
    "### Features we are, initially, not moving to modeling with\n",
    "* residual_sugar\n",
    "* density"
   ]
  },
  {
   "cell_type": "markdown",
   "id": "ce5644a9-dd6d-4cca-8967-551b6b7204d6",
   "metadata": {},
   "source": [
    "# Modeling\n",
    "* Evaluation Metrics (example: I will use R^2 and Root Mean Square Error (RMSE) as my evaluation metrics)\n",
    "    * for R^2, the value is in the range 0-1; closer to 1.0 is better; baseline is 0.0\n",
    "    * for RMSE, the lower the value the better; baseline is xxx\n",
    "* The average target is xxx which is the baseline prediction\n",
    "* I will evaluate x different model types and various hyperparameter configurations\n",
    "    * (Example: The four model types are Ordinary Least Squares (OLS), LassoLars, Polynomial Regression, Generalized Linear Model (GLM))\n",
    "* Models will be evaluated on train and validate data\n",
    "* The model that performs the best will then be evaluated on test"
   ]
  },
  {
   "cell_type": "code",
   "execution_count": 17,
   "id": "0c1e70d0-b1eb-431b-ae70-73ae4275f7be",
   "metadata": {},
   "outputs": [
    {
     "name": "stdout",
     "output_type": "stream",
     "text": [
      "Baseline Prediction (mean of quality) = 5.867377146240379\n"
     ]
    }
   ],
   "source": [
    "## prep data for modeling\n",
    "\n",
    "# get X y splits for modeling\n",
    "target = 'quality'\n",
    "X_tr, X_val, X_ts, y_tr, y_val, y_ts, to_scale, baseline = w.get_Xs_ys_to_scale_baseline(tr, val, ts, target)\n",
    "\n",
    "# scaling continuous variable columns for use in modeling\n",
    "X_tr_sc, X_val_sc, X_ts_sc = w.scale_data(X_tr,X_val,X_ts,to_scale)\n",
    "print(f'Baseline Prediction (mean of quality) = {baseline}')"
   ]
  },
  {
   "cell_type": "markdown",
   "id": "9909e0bf-cd7f-4f76-b7d1-e9ee1817059b",
   "metadata": {},
   "source": [
    "## Comparing models - All features EXCEPT residual_sugar and density\n",
    "* Also running OLS on top 3 RFE features"
   ]
  },
  {
   "cell_type": "code",
   "execution_count": 20,
   "id": "367b19f9-ed62-47f3-b907-6612b8d509aa",
   "metadata": {},
   "outputs": [
    {
     "data": {
      "text/html": [
       "<div>\n",
       "<style scoped>\n",
       "    .dataframe tbody tr th:only-of-type {\n",
       "        vertical-align: middle;\n",
       "    }\n",
       "\n",
       "    .dataframe tbody tr th {\n",
       "        vertical-align: top;\n",
       "    }\n",
       "\n",
       "    .dataframe thead th {\n",
       "        text-align: right;\n",
       "    }\n",
       "</style>\n",
       "<table border=\"1\" class=\"dataframe\">\n",
       "  <thead>\n",
       "    <tr style=\"text-align: right;\">\n",
       "      <th></th>\n",
       "      <th>model</th>\n",
       "      <th>rmse train</th>\n",
       "      <th>rmse validate</th>\n",
       "      <th>R2 validate</th>\n",
       "    </tr>\n",
       "  </thead>\n",
       "  <tbody>\n",
       "    <tr>\n",
       "      <th>0</th>\n",
       "      <td>baseline</td>\n",
       "      <td>0.870642</td>\n",
       "      <td></td>\n",
       "      <td>0.000000</td>\n",
       "    </tr>\n",
       "    <tr>\n",
       "      <th>1</th>\n",
       "      <td>ols with RFE-top-3 features</td>\n",
       "      <td>0.743719</td>\n",
       "      <td>0.737112</td>\n",
       "      <td>0.251331</td>\n",
       "    </tr>\n",
       "    <tr>\n",
       "      <th>2</th>\n",
       "      <td>ols</td>\n",
       "      <td>0.734863</td>\n",
       "      <td>0.729541</td>\n",
       "      <td>0.266633</td>\n",
       "    </tr>\n",
       "    <tr>\n",
       "      <th>3</th>\n",
       "      <td>lars</td>\n",
       "      <td>0.870642</td>\n",
       "      <td>0.852255</td>\n",
       "      <td>-0.000832</td>\n",
       "    </tr>\n",
       "    <tr>\n",
       "      <th>4</th>\n",
       "      <td>poly_2D</td>\n",
       "      <td>0.687791</td>\n",
       "      <td>0.70963</td>\n",
       "      <td>0.306118</td>\n",
       "    </tr>\n",
       "    <tr>\n",
       "      <th>5</th>\n",
       "      <td>glm</td>\n",
       "      <td>0.845940</td>\n",
       "      <td>0.828322</td>\n",
       "      <td>0.054589</td>\n",
       "    </tr>\n",
       "  </tbody>\n",
       "</table>\n",
       "</div>"
      ],
      "text/plain": [
       "                         model  rmse train rmse validate  R2 validate\n",
       "0                     baseline    0.870642                   0.000000\n",
       "1  ols with RFE-top-3 features    0.743719      0.737112     0.251331\n",
       "2                          ols    0.734863      0.729541     0.266633\n",
       "3                         lars    0.870642      0.852255    -0.000832\n",
       "4                      poly_2D    0.687791       0.70963     0.306118\n",
       "5                          glm    0.845940      0.828322     0.054589"
      ]
     },
     "metadata": {},
     "output_type": "display_data"
    }
   ],
   "source": [
    "# getting machine learning model metrics for features deemed useful in explore\n",
    "to_model_cols = list(X_tr_sc.drop(columns=['residual_sugar', 'density']).columns)\n",
    "w.display_model_metrics(baseline, tr[to_model_cols], y_tr, y_val, y_ts, X_tr_sc[to_model_cols], X_val_sc[to_model_cols], X_ts_sc[to_model_cols])"
   ]
  },
  {
   "cell_type": "markdown",
   "id": "39329973-ea99-41ff-b38f-0bceb9933363",
   "metadata": {},
   "source": [
    "* All models, except for Lars beat baseline"
   ]
  },
  {
   "cell_type": "markdown",
   "id": "6d85ac30-ea2e-476c-95a0-adde4600de59",
   "metadata": {},
   "source": [
    "## Comparing models - All features\n",
    "* Also running OLS on top 3 RFE features"
   ]
  },
  {
   "cell_type": "code",
   "execution_count": 21,
   "id": "f52cc359-a3ca-47eb-aba9-519dcdec95a3",
   "metadata": {},
   "outputs": [
    {
     "data": {
      "text/html": [
       "<div>\n",
       "<style scoped>\n",
       "    .dataframe tbody tr th:only-of-type {\n",
       "        vertical-align: middle;\n",
       "    }\n",
       "\n",
       "    .dataframe tbody tr th {\n",
       "        vertical-align: top;\n",
       "    }\n",
       "\n",
       "    .dataframe thead th {\n",
       "        text-align: right;\n",
       "    }\n",
       "</style>\n",
       "<table border=\"1\" class=\"dataframe\">\n",
       "  <thead>\n",
       "    <tr style=\"text-align: right;\">\n",
       "      <th></th>\n",
       "      <th>model</th>\n",
       "      <th>rmse train</th>\n",
       "      <th>rmse validate</th>\n",
       "      <th>R2 validate</th>\n",
       "    </tr>\n",
       "  </thead>\n",
       "  <tbody>\n",
       "    <tr>\n",
       "      <th>0</th>\n",
       "      <td>baseline</td>\n",
       "      <td>0.870642</td>\n",
       "      <td></td>\n",
       "      <td>0.000000</td>\n",
       "    </tr>\n",
       "    <tr>\n",
       "      <th>1</th>\n",
       "      <td>ols with RFE-top-3 features</td>\n",
       "      <td>0.745488</td>\n",
       "      <td>0.732004</td>\n",
       "      <td>0.261672</td>\n",
       "    </tr>\n",
       "    <tr>\n",
       "      <th>2</th>\n",
       "      <td>ols</td>\n",
       "      <td>0.726417</td>\n",
       "      <td>0.720004</td>\n",
       "      <td>0.285680</td>\n",
       "    </tr>\n",
       "    <tr>\n",
       "      <th>3</th>\n",
       "      <td>lars</td>\n",
       "      <td>0.870642</td>\n",
       "      <td>0.852255</td>\n",
       "      <td>-0.000832</td>\n",
       "    </tr>\n",
       "    <tr>\n",
       "      <th>4</th>\n",
       "      <td>poly_2D</td>\n",
       "      <td>0.672154</td>\n",
       "      <td>0.695087</td>\n",
       "      <td>0.334266</td>\n",
       "    </tr>\n",
       "    <tr>\n",
       "      <th>5</th>\n",
       "      <td>glm</td>\n",
       "      <td>0.841822</td>\n",
       "      <td>0.824497</td>\n",
       "      <td>0.063299</td>\n",
       "    </tr>\n",
       "  </tbody>\n",
       "</table>\n",
       "</div>"
      ],
      "text/plain": [
       "                         model  rmse train rmse validate  R2 validate\n",
       "0                     baseline    0.870642                   0.000000\n",
       "1  ols with RFE-top-3 features    0.745488      0.732004     0.261672\n",
       "2                          ols    0.726417      0.720004     0.285680\n",
       "3                         lars    0.870642      0.852255    -0.000832\n",
       "4                      poly_2D    0.672154      0.695087     0.334266\n",
       "5                          glm    0.841822      0.824497     0.063299"
      ]
     },
     "metadata": {},
     "output_type": "display_data"
    }
   ],
   "source": [
    "# get model metrics for all features\n",
    "w.display_model_metrics(baseline, tr, y_tr, y_val, y_ts, X_tr_sc, X_val_sc, X_ts_sc)"
   ]
  },
  {
   "cell_type": "markdown",
   "id": "d3fa8e44-a95e-40bf-a33e-1121643eeb5c",
   "metadata": {},
   "source": [
    "* Using all features led to slightly better models\n",
    "* Polynomial Regression, with degrees=2, is the best model"
   ]
  },
  {
   "cell_type": "markdown",
   "id": "23223c6d-3e73-4023-860a-f9096996a35d",
   "metadata": {},
   "source": [
    "# Clustering\n",
    "* Before we move to test, we will see if clustering may improve these models"
   ]
  },
  {
   "cell_type": "markdown",
   "id": "90d10f30-e638-4427-83e1-76bb981cd931",
   "metadata": {},
   "source": [
    "## Cluster 1"
   ]
  },
  {
   "cell_type": "code",
   "execution_count": 22,
   "id": "6982afc1-f59d-4542-8f9f-9e5f933c6270",
   "metadata": {},
   "outputs": [],
   "source": [
    "# Display cluster #1\n",
    "# INSERT CODE HERE"
   ]
  },
  {
   "cell_type": "markdown",
   "id": "3375facb-94b0-4c75-8fff-19d51d1cdaea",
   "metadata": {},
   "source": [
    "* short description"
   ]
  },
  {
   "cell_type": "markdown",
   "id": "56007c2e-9d1a-47e1-8e45-e26b45fae509",
   "metadata": {},
   "source": [
    "## Cluster 2"
   ]
  },
  {
   "cell_type": "code",
   "execution_count": 23,
   "id": "35713a98-a7f4-4238-acf7-28afbfcf8890",
   "metadata": {},
   "outputs": [],
   "source": [
    "# Display cluster #2\n",
    "# INSERT CODE HERE"
   ]
  },
  {
   "cell_type": "markdown",
   "id": "c363f032-bf64-47ee-af5d-62974e3370d4",
   "metadata": {},
   "source": [
    "* short description"
   ]
  },
  {
   "cell_type": "markdown",
   "id": "4756cef6-b977-43ee-8194-5fb092afcaf8",
   "metadata": {},
   "source": [
    "## Cluster 3"
   ]
  },
  {
   "cell_type": "code",
   "execution_count": 24,
   "id": "bb000d7e-cca3-475a-b2e9-926f827a9aed",
   "metadata": {},
   "outputs": [],
   "source": [
    "# Display cluster #3\n",
    "# INSERT CODE HERE"
   ]
  },
  {
   "cell_type": "markdown",
   "id": "c36181c4-7340-42e8-9707-e23ef737585b",
   "metadata": {},
   "source": [
    "* short description"
   ]
  },
  {
   "cell_type": "markdown",
   "id": "383e2457-41f2-4069-8549-9d590b07dc51",
   "metadata": {},
   "source": [
    "## Comparing models with best cluster - \n",
    "* Also running OLS on top 3 RFE features"
   ]
  },
  {
   "cell_type": "code",
   "execution_count": 25,
   "id": "54393a40-ef22-4238-a8ed-2e9955e4716e",
   "metadata": {},
   "outputs": [],
   "source": [
    "# get model results\n",
    "# INSERT CODE HERE"
   ]
  },
  {
   "cell_type": "markdown",
   "id": "a7f23c07-e8c1-4110-b282-c5249351be47",
   "metadata": {},
   "source": [
    "* model name did/did not beat baseline"
   ]
  },
  {
   "cell_type": "markdown",
   "id": "38af26d7-2fc2-47c3-8bf2-cc435eca964d",
   "metadata": {},
   "source": [
    "## Comparing Models\n",
    "* summarize the model performance\n",
    "* ...\n",
    "* I have chosen to move forward with the ___ model on test"
   ]
  },
  {
   "cell_type": "markdown",
   "id": "f757c82b-fe9e-4cff-966a-5ca738701bf6",
   "metadata": {},
   "source": [
    "## Best Model (model name) on Test"
   ]
  },
  {
   "cell_type": "code",
   "execution_count": 28,
   "id": "b4e673af-5c0e-46d0-9ad2-e38c0074cd35",
   "metadata": {},
   "outputs": [
    {
     "data": {
      "text/html": [
       "<div>\n",
       "<style scoped>\n",
       "    .dataframe tbody tr th:only-of-type {\n",
       "        vertical-align: middle;\n",
       "    }\n",
       "\n",
       "    .dataframe tbody tr th {\n",
       "        vertical-align: top;\n",
       "    }\n",
       "\n",
       "    .dataframe thead th {\n",
       "        text-align: right;\n",
       "    }\n",
       "</style>\n",
       "<table border=\"1\" class=\"dataframe\">\n",
       "  <thead>\n",
       "    <tr style=\"text-align: right;\">\n",
       "      <th></th>\n",
       "      <th>model Poly_2D</th>\n",
       "      <th>rmse</th>\n",
       "      <th>r2</th>\n",
       "    </tr>\n",
       "  </thead>\n",
       "  <tbody>\n",
       "    <tr>\n",
       "      <th>0</th>\n",
       "      <td>test</td>\n",
       "      <td>0.713094</td>\n",
       "      <td>0.305323</td>\n",
       "    </tr>\n",
       "  </tbody>\n",
       "</table>\n",
       "</div>"
      ],
      "text/plain": [
       "  model Poly_2D      rmse        r2\n",
       "0          test  0.713094  0.305323"
      ]
     },
     "execution_count": 28,
     "metadata": {},
     "output_type": "execute_result"
    }
   ],
   "source": [
    "# get test results for final model\n",
    "w.test_best_model(X_ts_sc, y_ts, X_tr_sc, y_tr)"
   ]
  },
  {
   "cell_type": "code",
   "execution_count": 27,
   "id": "92aa61a8-8aba-4d9b-a4bb-eafb5129c109",
   "metadata": {},
   "outputs": [],
   "source": [
    "# maybe a visual of model performance (like a residual plot for a regression model)"
   ]
  },
  {
   "cell_type": "markdown",
   "id": "a0b5e7d9-7b20-47a0-8d4e-5fd718457ba9",
   "metadata": {},
   "source": [
    "## Modeling Summary\n",
    "* summary bullet 1 ..."
   ]
  },
  {
   "cell_type": "markdown",
   "id": "90a4de71-1dfa-4fb4-9db6-16ad478ecb21",
   "metadata": {},
   "source": [
    "# Conclusions"
   ]
  },
  {
   "cell_type": "markdown",
   "id": "525f5d7c-6d57-46fc-a73b-214d747fb463",
   "metadata": {},
   "source": [
    "## Exploration\n",
    "* The mean wine quality score is 5.87\n",
    "    * all bottles had a score from 1 to 10\n",
    "* No feature correlated more than a .5 correlation coefficient\n",
    "    * alcohol was the highest correlation with a .46\n",
    "* Features affecting wine quality in KBest rank order:"
   ]
  },
  {
   "cell_type": "markdown",
   "id": "e4e2984d-7404-424b-951d-ada68db1737f",
   "metadata": {},
   "source": [
    "     1) alcohol             :   higher value   -> higher quality\n",
    "     2) chlorides           :   lower value    -> higher quality\n",
    "     3) density             :   lower value    -> higher quality\n",
    "     4) volatile_acidity    :   lower value    -> higher quality\n",
    "     5) wine_type           :   white wine     -> higher quality\n",
    "     6) citric_acid         :   higher value   -> higher quality\n",
    "     7) fixed_acidity       :   lower value    -> higher quality\n",
    "     8) free_sulfur_dioxide :   higher value   -> higher quality\n",
    "     9) sulphates           :   higher value   -> higher quality\n",
    "    10) total_sulfur_dioxide:   lower value    -> higher quality\n",
    "    11) ph                  :   higher value   -> higher quality\n",
    "    12) residual_sugar      :   no correlation (but it did help the model slightly)"
   ]
  },
  {
   "cell_type": "markdown",
   "id": "17f540ad-bda0-4fc3-b86d-dcc1a54e0be6",
   "metadata": {},
   "source": [
    "## Modeling\n",
    "* Interestingly, sending in all, features even those not correlated with the target, led to the best performing model\n",
    "* Clustering had ??? effect"
   ]
  },
  {
   "cell_type": "markdown",
   "id": "2908b674-c768-40c2-8f99-0bc4cd59e719",
   "metadata": {},
   "source": [
    "## Recommendations\n",
    "* Create wines that optimize the chemical properties as described above \n",
    "    * i.e. the higher/lower values that correspond with higher quality scores\n",
    "    * This will not guarantee a higher quality wine, but it should increase the probability of creating a higher quality wine"
   ]
  },
  {
   "cell_type": "markdown",
   "id": "f26aeb83-c95f-44d2-8d0d-d5a45a7851ef",
   "metadata": {},
   "source": [
    "## Next steps\n",
    "* build separate models for the two wine types to see if that would improve model accuracy"
   ]
  },
  {
   "cell_type": "code",
   "execution_count": null,
   "id": "9a7debcf-f4b5-413f-bfdf-066233541ec4",
   "metadata": {},
   "outputs": [],
   "source": []
  }
 ],
 "metadata": {
  "kernelspec": {
   "display_name": "Python 3 (ipykernel)",
   "language": "python",
   "name": "python3"
  },
  "language_info": {
   "codemirror_mode": {
    "name": "ipython",
    "version": 3
   },
   "file_extension": ".py",
   "mimetype": "text/x-python",
   "name": "python",
   "nbconvert_exporter": "python",
   "pygments_lexer": "ipython3",
   "version": "3.9.13"
  }
 },
 "nbformat": 4,
 "nbformat_minor": 5
}
